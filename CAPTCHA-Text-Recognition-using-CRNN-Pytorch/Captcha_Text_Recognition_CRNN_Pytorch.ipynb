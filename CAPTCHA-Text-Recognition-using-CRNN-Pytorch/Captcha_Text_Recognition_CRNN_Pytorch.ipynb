{
 "cells": [
  {
   "cell_type": "code",
   "execution_count": 1,
   "id": "811e0755-6a4a-4808-9bc8-d9af71fcc7a3",
   "metadata": {},
   "outputs": [],
   "source": [
    "#imports\n",
    "import os\n",
    "import numpy as np\n",
    "import pandas as pd\n",
    "from sklearn.model_selection import train_test_split\n",
    "from sklearn.metrics import accuracy_score\n",
    "from PIL import Image\n",
    "from torch.utils.data import Dataset, DataLoader\n",
    "from torchvision import transforms\n",
    "import torch\n",
    "import torch.nn as nn\n",
    "import torch.nn.functional as F\n",
    "import torch.optim as optim\n",
    "from torchvision.models import resnet18,ResNet18_Weights\n",
    "from tqdm.notebook import tqdm\n",
    "import matplotlib.pyplot as plt\n",
    "import multiprocessing as mp\n",
    "import string\n",
    "import cv2"
   ]
  },
  {
   "cell_type": "code",
   "execution_count": 2,
   "id": "4c5f62f3-cb69-4837-bd0f-c2b47c2b545b",
   "metadata": {},
   "outputs": [],
   "source": [
    "#cpu counts for multiprocessing\n",
    "cpu_count = mp.cpu_count()"
   ]
  },
  {
   "cell_type": "code",
   "execution_count": 3,
   "id": "e48dd377-4708-4805-acdb-4e2f634433b3",
   "metadata": {},
   "outputs": [],
   "source": [
    "#path where images are stored\n",
    "data_path = \"./kaggle/input/captcha-version-2-images/samples\""
   ]
  },
  {
   "cell_type": "code",
   "execution_count": 4,
   "id": "de5a18ec-7684-41a9-af5a-2e0a6c71995c",
   "metadata": {},
   "outputs": [
    {
     "data": {
      "text/plain": [
       "array([5])"
      ]
     },
     "execution_count": 4,
     "metadata": {},
     "output_type": "execute_result"
    }
   ],
   "source": [
    "#get name of images and put them in a list\n",
    "image_fns = os.listdir(data_path)\n",
    "np.unique([len(image_fn.split(\".\")[0]) for image_fn in image_fns])"
   ]
  },
  {
   "cell_type": "code",
   "execution_count": 5,
   "id": "842af67e-a4f7-432b-bbbc-98a7f9644e67",
   "metadata": {},
   "outputs": [],
   "source": [
    "#check if any image name is not equal to 5\n",
    "for idx, image_fn in enumerate(image_fns):\n",
    "    if len(image_fn.split('.')[0])!=5:\n",
    "        print(idx,image_fn)"
   ]
  },
  {
   "cell_type": "code",
   "execution_count": 6,
   "id": "713ad091-d46a-4949-8722-3b33f7ea298c",
   "metadata": {},
   "outputs": [
    {
     "data": {
      "text/plain": [
       "(802, 268)"
      ]
     },
     "execution_count": 6,
     "metadata": {},
     "output_type": "execute_result"
    }
   ],
   "source": [
    "#split data into test and train data\n",
    "x_train,x_test = train_test_split(image_fns,random_state=42)\n",
    "len(x_train),len(x_test)"
   ]
  },
  {
   "cell_type": "code",
   "execution_count": 7,
   "id": "43798132-7059-4b72-89ea-210021bd4c71",
   "metadata": {},
   "outputs": [
    {
     "data": {
      "text/plain": [
       "19"
      ]
     },
     "execution_count": 7,
     "metadata": {},
     "output_type": "execute_result"
    }
   ],
   "source": [
    "#create a list of all the unique letters and numbers for encoding\n",
    "image_ns = [image_fn.split('.')[0] for image_fn in image_fns]\n",
    "image_ns = ''.join(image_ns)\n",
    "unique_let = sorted(list(set(list(image_ns))))\n",
    "len(unique_let)\n",
    "#unique_let"
   ]
  },
  {
   "cell_type": "code",
   "execution_count": 8,
   "id": "0ea2654a-d63f-47a0-a66e-f39634d24326",
   "metadata": {},
   "outputs": [
    {
     "name": "stdout",
     "output_type": "stream",
     "text": [
      "20\n",
      "['-', '2', '3', '4', '5', '6', '7', '8', 'b', 'c', 'd', 'e', 'f', 'g', 'm', 'n', 'p', 'w', 'x', 'y']\n",
      "{0: '-', 1: '2', 2: '3', 3: '4', 4: '5', 5: '6', 6: '7', 7: '8', 8: 'b', 9: 'c', 10: 'd', 11: 'e', 12: 'f', 13: 'g', 14: 'm', 15: 'n', 16: 'p', 17: 'w', 18: 'x', 19: 'y'}\n",
      "{'-': 0, '2': 1, '3': 2, '4': 3, '5': 4, '6': 5, '7': 6, '8': 7, 'b': 8, 'c': 9, 'd': 10, 'e': 11, 'f': 12, 'g': 13, 'm': 14, 'n': 15, 'p': 16, 'w': 17, 'x': 18, 'y': 19}\n"
     ]
    }
   ],
   "source": [
    "#make dictionary of unique symbols as well as a reverse dictionary\n",
    "#for encoding and decoding purposes\n",
    "#'-' added to vocab because CTCLoss adds a '-' to the loss output to \n",
    "#seperate loss of different time sequences\n",
    "vocabulary = ['-' ]+ unique_let\n",
    "print(len(vocabulary))\n",
    "print(vocabulary)\n",
    "idx2char = {a:b for a,b in enumerate(vocabulary,start=0)}\n",
    "print(idx2char)\n",
    "char2idx = {b:a for a,b in idx2char.items()}\n",
    "print(char2idx)"
   ]
  },
  {
   "cell_type": "code",
   "execution_count": 9,
   "id": "90790b92-3ec8-435f-a67e-0915425c98df",
   "metadata": {},
   "outputs": [],
   "source": [
    "\n",
    "class CaptchaDataset(Dataset):\n",
    "    #initialize dataset\n",
    "    def __init__(self,data_dir,image_fns):\n",
    "        self.data_dir = data_dir\n",
    "        self.image_fns = image_fns\n",
    "        #return length of dataset\n",
    "    def __len__(self):\n",
    "        return len(self.image_fns)\n",
    "        #return each transformed image and corresponding label from the dataset\n",
    "    def __getitem__(self,index):\n",
    "        image_fn = self.image_fns[index]\n",
    "        image_fp = os.path.join(self.data_dir,image_fn)\n",
    "        image = Image.open(image_fp).convert('RGB')\n",
    "        image = self.transform(image)\n",
    "        text = image_fn.split('.')[0]\n",
    "        return image,text\n",
    "        #tranform image acording to ImageNet mean and std standards\n",
    "    def transform(self,image):\n",
    "        transform_ops = transforms.Compose(\n",
    "            [transforms.ToTensor(),\n",
    "             transforms.Normalize(mean=(0.485,0.456,0.406),\n",
    "            std=(0.229,0.224,0.225))])\n",
    "        return transform_ops(image)\n",
    "        "
   ]
  },
  {
   "cell_type": "code",
   "execution_count": 10,
   "id": "95561965-6846-4c8e-9f91-9827669c1b22",
   "metadata": {},
   "outputs": [
    {
     "data": {
      "text/plain": [
       "(51, 17)"
      ]
     },
     "execution_count": 10,
     "metadata": {},
     "output_type": "execute_result"
    }
   ],
   "source": [
    "#create trainset,testset and from them create train,test dataloaders\n",
    "trainset = CaptchaDataset(data_path,x_train)\n",
    "testset = CaptchaDataset(data_path,x_test)\n",
    "train_loader = DataLoader(trainset,batch_size=16,num_workers=0,shuffle=True)\n",
    "test_loader = DataLoader(testset,batch_size=16,num_workers=0,shuffle=False)\n",
    "len(train_loader),len(test_loader)"
   ]
  },
  {
   "cell_type": "code",
   "execution_count": 11,
   "id": "c383f543-973a-4f36-90f5-0fd831b3091c",
   "metadata": {},
   "outputs": [
    {
     "data": {
      "text/plain": [
       "(torch.Size([16, 3, 50, 200]),\n",
       " ('226md',\n",
       "  '445cc',\n",
       "  'm3588',\n",
       "  '387g2',\n",
       "  'pgwnp',\n",
       "  'y7mnm',\n",
       "  '87d4c',\n",
       "  'fp762',\n",
       "  'w48cw',\n",
       "  '6e2dg',\n",
       "  'dbny3',\n",
       "  'nm248',\n",
       "  'bpwd7',\n",
       "  '6c3n6',\n",
       "  '7f8b3',\n",
       "  '77n6g'))"
      ]
     },
     "execution_count": 11,
     "metadata": {},
     "output_type": "execute_result"
    }
   ],
   "source": [
    "#check batch for any discrepencies\n",
    "image_batch, text_batch = next(iter(train_loader))\n",
    "image_batch.size(),text_batch"
   ]
  },
  {
   "cell_type": "code",
   "execution_count": 12,
   "id": "6706e1e3-7529-4427-977c-dee1b6cac65a",
   "metadata": {},
   "outputs": [
    {
     "name": "stdout",
     "output_type": "stream",
     "text": [
      "20\n"
     ]
    }
   ],
   "source": [
    "#check dictionary length\n",
    "num_chars = len(char2idx)\n",
    "print(num_chars)\n",
    "rnn_hidden_size = 256"
   ]
  },
  {
   "cell_type": "code",
   "execution_count": 13,
   "id": "5da049c9-4926-49ee-b1f4-fbe0422b0efe",
   "metadata": {},
   "outputs": [
    {
     "data": {
      "text/plain": [
       "True"
      ]
     },
     "execution_count": 13,
     "metadata": {},
     "output_type": "execute_result"
    }
   ],
   "source": [
    "#check gpu processing availability\n",
    "torch.cuda.is_available()"
   ]
  },
  {
   "cell_type": "code",
   "execution_count": 14,
   "id": "6d07246b-454f-4a6d-8c40-c218a5b81a30",
   "metadata": {},
   "outputs": [
    {
     "name": "stdout",
     "output_type": "stream",
     "text": [
      "cuda\n"
     ]
    }
   ],
   "source": [
    "# device variable to do processing on gpu if we please\n",
    "device = torch.device('cuda' if torch.cuda.is_available() else 'cpu')\n",
    "print(device)"
   ]
  },
  {
   "cell_type": "code",
   "execution_count": null,
   "id": "639485eb-dd36-4fdc-ae16-70057790023d",
   "metadata": {},
   "outputs": [],
   "source": []
  },
  {
   "cell_type": "code",
   "execution_count": 15,
   "id": "3e92d902-f7ef-448f-b792-dbc5e0b098ed",
   "metadata": {},
   "outputs": [],
   "source": [
    "resnet18 = resnet18(weights=ResNet18_Weights.DEFAULT)"
   ]
  },
  {
   "cell_type": "code",
   "execution_count": 16,
   "id": "d2735152-ca71-492c-80c9-eeb1ee0ada60",
   "metadata": {},
   "outputs": [],
   "source": [
    "#CRNN architectue\n",
    "class CRNN(nn.Module):\n",
    "    # initializing key parameters\n",
    "    def __init__(self,num_chars,rnn_hidden_size=256,dropout=0.1):\n",
    "        super(CRNN,self).__init__()\n",
    "        self.num_chars = num_chars\n",
    "        self.rnn_hidden_size=rnn_hidden_size\n",
    "        self.dropout = dropout\n",
    "\n",
    "        #CRNN Part 1\n",
    "        #unpack all of pretrained resnet model except the last 3 layers\n",
    "        resnet_modules = list(resnet18.children())[:-3]\n",
    "        # .Sequential ensures sequential execution of layers\n",
    "        self.cnn_p1 = nn.Sequential(*resnet_modules)\n",
    "\n",
    "        #CRNN Part 2\n",
    "        #Sequential layer of order Convolution, Batch Normalization, and ReLU\n",
    "        self.cnn_p2 = nn.Sequential(nn.Conv2d(256,256,kernel_size=(3,6),stride=1,padding=1),\n",
    "                                    nn.BatchNorm2d(256),\n",
    "                                    nn.ReLU(inplace=True))\n",
    "        #Linear layer to map activations of last layer to 256 as preperation for next layer\n",
    "        self.linear1 = nn.Linear(1024,256)\n",
    "\n",
    "        #RNN\n",
    "        #GRU layer with bidirectionality so 512 outputs\n",
    "        self.rnn1 = nn.GRU(input_size=rnn_hidden_size,\n",
    "                           hidden_size=rnn_hidden_size,\n",
    "                           bidirectional=True,\n",
    "                           batch_first=True)\n",
    "        #Another GRU layer with bidirectionality however it takes 256 input activations\n",
    "        self.rnn2 = nn.GRU(input_size=rnn_hidden_size,\n",
    "                           hidden_size=rnn_hidden_size,\n",
    "                           bidirectional=True,\n",
    "                           batch_first=True)\n",
    "        self.linear2 = nn.Linear(self.rnn_hidden_size*2,num_chars)\n",
    "        \n",
    "    #forward pass\n",
    "    def forward(self,batch):\n",
    "        # pass through cnn part 1\n",
    "        batch = self.cnn_p1(batch) #[-1,256,4,13]\n",
    "        #pass through cnn part 2\n",
    "        batch = self.cnn_p2(batch) #[-1,256,4,10]\n",
    "        #change order of dimensions as preperation for next layer\n",
    "        batch = batch.permute(0,3,1,2) #[-1,10,256,4]\n",
    "        #change order of dimensions as preperation for next layer\n",
    "        batch_size = batch.size(0)\n",
    "        T = batch.size(1)\n",
    "        #changed order and collapsed remaining layers into 1\n",
    "        batch = batch.view(batch_size,T,-1) #[-1,10,1024]\n",
    "        #pass through linear layer\n",
    "        batch = self.linear1(batch) #[-1,10,256]\n",
    "        #pass through 1st GRU layer\n",
    "        batch, hidden = self.rnn1(batch)\n",
    "        feature_size = batch.size(2)\n",
    "        #half the last dimensions attributes to load into next layer\n",
    "        batch = batch[:,:,:feature_size//2] + batch[:,:,feature_size//2:] #[-1,10,256]\n",
    "        # pass through 2nd GRU layer\n",
    "        batch, hidden = self.rnn2(batch) #[-1,10,512]\n",
    "        #pass through linear layer to map output of last layer to the length of the vocab\n",
    "        batch = self.linear2(batch) #[-1,10,20]\n",
    "        #rearrange shape of tensor for further processing\n",
    "        batch = batch.permute(1,0,2) #[10,-1,20]\n",
    "        #return processed batch\n",
    "        return batch\n",
    "\n",
    "        \n",
    "                                    "
   ]
  },
  {
   "cell_type": "code",
   "execution_count": 17,
   "id": "92d19804-04cc-4a16-a46d-0d9473ca7709",
   "metadata": {},
   "outputs": [],
   "source": [
    "#initialize weights for new layers (non-pretrained)\n",
    "def weights_init(m):\n",
    "    #extract name of layers in architecture\n",
    "    classname = m.__class__.__name__\n",
    "    # check if name is in list\n",
    "    if type(m) in [nn.Linear,nn.Conv2d, nn.Conv1d]:\n",
    "        #initialize weights\n",
    "        torch.nn.init.xavier_uniform_(m.weight)\n",
    "        #if bias exists set bias for each layer\n",
    "        if m.bias is not None:\n",
    "            m.bias.data.fill_(0.01)\n",
    "    #check if layer is BatchNorm\n",
    "    elif classname.find('BatchNorm') != -1:\n",
    "        #initialize weights and bias for this layer\n",
    "        m.weight.data.normal_(1.0,0.02)\n",
    "        m.bias.data.fill_(0)"
   ]
  },
  {
   "cell_type": "code",
   "execution_count": 18,
   "id": "c8b34718-890e-49f3-8063-40315afc6a5a",
   "metadata": {},
   "outputs": [],
   "source": [
    "#make an object of class CRNN and initialize weights and set gpu for processing\n",
    "crnn = CRNN(num_chars,rnn_hidden_size=256)\n",
    "crnn.apply(weights_init)\n",
    "crnn = crnn.to(device)"
   ]
  },
  {
   "cell_type": "code",
   "execution_count": 19,
   "id": "9ca66cf4-fed5-449f-9ca4-aa2d6bdd345e",
   "metadata": {},
   "outputs": [
    {
     "name": "stdout",
     "output_type": "stream",
     "text": [
      "('226md', '445cc', 'm3588', '387g2', 'pgwnp', 'y7mnm', '87d4c', 'fp762', 'w48cw', '6e2dg', 'dbny3', 'nm248', 'bpwd7', '6c3n6', '7f8b3', '77n6g')\n",
      "torch.Size([10, 16, 20])\n"
     ]
    }
   ],
   "source": [
    "#pass batch into the CRNN object and check output for any discrepencies\n",
    "text_batch_logits = crnn(image_batch.to(device))\n",
    "print(text_batch)\n",
    "print(text_batch_logits.shape)"
   ]
  },
  {
   "cell_type": "code",
   "execution_count": 20,
   "id": "0d8b964a-1df7-445c-a92c-1b5927c71bba",
   "metadata": {},
   "outputs": [],
   "source": [
    "#set loss criterion (CTC for models with varying input and outputs)\n",
    "criterion = nn.CTCLoss(blank=0)"
   ]
  },
  {
   "cell_type": "code",
   "execution_count": 21,
   "id": "c0d1529b-a870-4dc8-8eb3-401e6ceea0d8",
   "metadata": {},
   "outputs": [],
   "source": [
    "#encode text using dictionary for easy processing\n",
    "def encode_text_batch(text_batch):\n",
    "\n",
    "    text_batch_targets_lens = [len(text) for text in text_batch]\n",
    "    text_batch_targets_lens = torch.IntTensor(text_batch_targets_lens)\n",
    "\n",
    "    text_batch_concat = ''.join(text_batch)\n",
    "    text_batch_targets = [char2idx[c] for c in text_batch_concat]\n",
    "    text_batch_targets = torch.IntTensor(text_batch_targets)\n",
    "\n",
    "    return text_batch_targets,text_batch_targets_lens"
   ]
  },
  {
   "cell_type": "code",
   "execution_count": 22,
   "id": "45cd8520-5e12-4b90-a46c-9a8bb60d502c",
   "metadata": {},
   "outputs": [],
   "source": [
    "# function for computing loss\n",
    "def compute_loss(text_batch,text_batch_logits):\n",
    "    text_batch_logps = F.log_softmax(text_batch_logits,2) #[10,-1,20]\n",
    "    text_batch_logps_lens = torch.full(size=(text_batch_logps.size(1),),\n",
    "                                        fill_value=text_batch_logps.size(0),\n",
    "                                        dtype=torch.int32).to(device) #[batch_size]\n",
    "\n",
    "    text_batch_targets, text_batch_targets_lens = encode_text_batch(text_batch)\n",
    "\n",
    "    loss = criterion(text_batch_logps,text_batch_targets,text_batch_logps_lens,text_batch_targets_lens)\n",
    "    return loss"
   ]
  },
  {
   "cell_type": "code",
   "execution_count": 23,
   "id": "e63122fd-5461-42d2-8cd8-c0972bd468f0",
   "metadata": {},
   "outputs": [],
   "source": [
    "#hyperparameters\n",
    "num_epochs = 100\n",
    "lr = 0.001\n",
    "weight_decay = 1e-3\n",
    "clip_norm = 5"
   ]
  },
  {
   "cell_type": "code",
   "execution_count": 24,
   "id": "b8dccf69-a76c-4b34-a091-15dfd0e25a17",
   "metadata": {},
   "outputs": [
    {
     "name": "stderr",
     "output_type": "stream",
     "text": [
      "C:\\Users\\hp\\AppData\\Local\\Programs\\Python\\Python312\\Lib\\site-packages\\torch\\optim\\lr_scheduler.py:28: UserWarning: The verbose parameter is deprecated. Please use get_last_lr() to access the learning rate.\n",
      "  warnings.warn(\"The verbose parameter is deprecated. Please use get_last_lr() \"\n"
     ]
    }
   ],
   "source": [
    "#initialize optimizer and learning rate scheduler\n",
    "optimizer = optim.Adam(crnn.parameters(),lr=lr,weight_decay=weight_decay)\n",
    "lr_scheduler = optim.lr_scheduler.ReduceLROnPlateau(optimizer,verbose=True,patience=5)"
   ]
  },
  {
   "cell_type": "code",
   "execution_count": 25,
   "id": "6efb14de-c823-48ee-9027-bc823066492d",
   "metadata": {},
   "outputs": [],
   "source": [
    "#make an object of class CRNN and initialize weights and set gpu for processing\n",
    "crnn = CRNN(num_chars, rnn_hidden_size=rnn_hidden_size)\n",
    "crnn.apply(weights_init)\n",
    "crnn = crnn.to(device)"
   ]
  },
  {
   "cell_type": "code",
   "execution_count": 26,
   "id": "45b77d95-4688-457e-b493-2733e6cf65b9",
   "metadata": {},
   "outputs": [
    {
     "data": {
      "application/vnd.jupyter.widget-view+json": {
       "model_id": "9c8a32afaa1e4789bd843078ebda69f1",
       "version_major": 2,
       "version_minor": 0
      },
      "text/plain": [
       "  0%|          | 0/100 [00:00<?, ?it/s]"
      ]
     },
     "metadata": {},
     "output_type": "display_data"
    },
    {
     "data": {
      "application/vnd.jupyter.widget-view+json": {
       "model_id": "4d74f70df78a46a9b7493985892b7a06",
       "version_major": 2,
       "version_minor": 0
      },
      "text/plain": [
       "  0%|          | 0/51 [00:00<?, ?it/s]"
      ]
     },
     "metadata": {},
     "output_type": "display_data"
    },
    {
     "name": "stdout",
     "output_type": "stream",
     "text": [
      "Epoch:1    Loss:2.984392105364332    NumUpdates:51\n"
     ]
    },
    {
     "data": {
      "application/vnd.jupyter.widget-view+json": {
       "model_id": "c2b7d8c62c2947cda89ca5df22f538f9",
       "version_major": 2,
       "version_minor": 0
      },
      "text/plain": [
       "  0%|          | 0/51 [00:00<?, ?it/s]"
      ]
     },
     "metadata": {},
     "output_type": "display_data"
    },
    {
     "name": "stdout",
     "output_type": "stream",
     "text": [
      "Epoch:2    Loss:2.3672737093532787    NumUpdates:51\n"
     ]
    },
    {
     "data": {
      "application/vnd.jupyter.widget-view+json": {
       "model_id": "50275d9871bf4eb28ebb4c7d2eb8b1ca",
       "version_major": 2,
       "version_minor": 0
      },
      "text/plain": [
       "  0%|          | 0/51 [00:00<?, ?it/s]"
      ]
     },
     "metadata": {},
     "output_type": "display_data"
    },
    {
     "name": "stdout",
     "output_type": "stream",
     "text": [
      "Epoch:3    Loss:1.862944944232118    NumUpdates:51\n"
     ]
    },
    {
     "data": {
      "application/vnd.jupyter.widget-view+json": {
       "model_id": "90d51e73057047799e728d423b3fae02",
       "version_major": 2,
       "version_minor": 0
      },
      "text/plain": [
       "  0%|          | 0/51 [00:00<?, ?it/s]"
      ]
     },
     "metadata": {},
     "output_type": "display_data"
    },
    {
     "name": "stdout",
     "output_type": "stream",
     "text": [
      "Epoch:4    Loss:1.5262042120391248    NumUpdates:51\n"
     ]
    },
    {
     "data": {
      "application/vnd.jupyter.widget-view+json": {
       "model_id": "1510a200c1f946c7b946394c1fdcbf39",
       "version_major": 2,
       "version_minor": 0
      },
      "text/plain": [
       "  0%|          | 0/51 [00:00<?, ?it/s]"
      ]
     },
     "metadata": {},
     "output_type": "display_data"
    },
    {
     "name": "stdout",
     "output_type": "stream",
     "text": [
      "Epoch:5    Loss:1.341753646439197    NumUpdates:51\n"
     ]
    },
    {
     "data": {
      "application/vnd.jupyter.widget-view+json": {
       "model_id": "85125ad62ab64a4f8595d6d83d5a98dd",
       "version_major": 2,
       "version_minor": 0
      },
      "text/plain": [
       "  0%|          | 0/51 [00:00<?, ?it/s]"
      ]
     },
     "metadata": {},
     "output_type": "display_data"
    },
    {
     "name": "stdout",
     "output_type": "stream",
     "text": [
      "Epoch:6    Loss:1.2406346190209483    NumUpdates:51\n"
     ]
    },
    {
     "data": {
      "application/vnd.jupyter.widget-view+json": {
       "model_id": "3fa026035fab4b5fb495c5586827ece0",
       "version_major": 2,
       "version_minor": 0
      },
      "text/plain": [
       "  0%|          | 0/51 [00:00<?, ?it/s]"
      ]
     },
     "metadata": {},
     "output_type": "display_data"
    },
    {
     "name": "stdout",
     "output_type": "stream",
     "text": [
      "Epoch:7    Loss:1.1536321359522201    NumUpdates:51\n"
     ]
    },
    {
     "data": {
      "application/vnd.jupyter.widget-view+json": {
       "model_id": "36f4dca1bdb442f6815791fe19d93184",
       "version_major": 2,
       "version_minor": 0
      },
      "text/plain": [
       "  0%|          | 0/51 [00:00<?, ?it/s]"
      ]
     },
     "metadata": {},
     "output_type": "display_data"
    },
    {
     "name": "stdout",
     "output_type": "stream",
     "text": [
      "Epoch:8    Loss:1.0807141135720646    NumUpdates:51\n"
     ]
    },
    {
     "data": {
      "application/vnd.jupyter.widget-view+json": {
       "model_id": "6fbf0a6c029c48e3b1b37575c91fd02b",
       "version_major": 2,
       "version_minor": 0
      },
      "text/plain": [
       "  0%|          | 0/51 [00:00<?, ?it/s]"
      ]
     },
     "metadata": {},
     "output_type": "display_data"
    },
    {
     "name": "stdout",
     "output_type": "stream",
     "text": [
      "Epoch:9    Loss:1.04936679204305    NumUpdates:51\n"
     ]
    },
    {
     "data": {
      "application/vnd.jupyter.widget-view+json": {
       "model_id": "edc37b6a5b1843bfa863a85e386db198",
       "version_major": 2,
       "version_minor": 0
      },
      "text/plain": [
       "  0%|          | 0/51 [00:00<?, ?it/s]"
      ]
     },
     "metadata": {},
     "output_type": "display_data"
    },
    {
     "name": "stdout",
     "output_type": "stream",
     "text": [
      "Epoch:10    Loss:1.0191463173604478    NumUpdates:51\n"
     ]
    },
    {
     "data": {
      "application/vnd.jupyter.widget-view+json": {
       "model_id": "d09bd9ebb9b0432eb69feaa262d3cce3",
       "version_major": 2,
       "version_minor": 0
      },
      "text/plain": [
       "  0%|          | 0/51 [00:00<?, ?it/s]"
      ]
     },
     "metadata": {},
     "output_type": "display_data"
    },
    {
     "name": "stdout",
     "output_type": "stream",
     "text": [
      "Epoch:11    Loss:0.9865954752061882    NumUpdates:51\n"
     ]
    },
    {
     "data": {
      "application/vnd.jupyter.widget-view+json": {
       "model_id": "10bd7c75a3b44fe0bb1aaa91eda25ca6",
       "version_major": 2,
       "version_minor": 0
      },
      "text/plain": [
       "  0%|          | 0/51 [00:00<?, ?it/s]"
      ]
     },
     "metadata": {},
     "output_type": "display_data"
    },
    {
     "name": "stdout",
     "output_type": "stream",
     "text": [
      "Epoch:12    Loss:0.9706762935601029    NumUpdates:51\n"
     ]
    },
    {
     "data": {
      "application/vnd.jupyter.widget-view+json": {
       "model_id": "303209631d5248eeb2f5989562d6077b",
       "version_major": 2,
       "version_minor": 0
      },
      "text/plain": [
       "  0%|          | 0/51 [00:00<?, ?it/s]"
      ]
     },
     "metadata": {},
     "output_type": "display_data"
    },
    {
     "name": "stdout",
     "output_type": "stream",
     "text": [
      "Epoch:13    Loss:0.9427797782654855    NumUpdates:51\n"
     ]
    },
    {
     "data": {
      "application/vnd.jupyter.widget-view+json": {
       "model_id": "eaada332641246f4bef3af75778211b3",
       "version_major": 2,
       "version_minor": 0
      },
      "text/plain": [
       "  0%|          | 0/51 [00:00<?, ?it/s]"
      ]
     },
     "metadata": {},
     "output_type": "display_data"
    },
    {
     "name": "stdout",
     "output_type": "stream",
     "text": [
      "Epoch:14    Loss:0.9300631331462487    NumUpdates:51\n"
     ]
    },
    {
     "data": {
      "application/vnd.jupyter.widget-view+json": {
       "model_id": "b0d2c1b612a74833aa156230952de2ef",
       "version_major": 2,
       "version_minor": 0
      },
      "text/plain": [
       "  0%|          | 0/51 [00:00<?, ?it/s]"
      ]
     },
     "metadata": {},
     "output_type": "display_data"
    },
    {
     "name": "stdout",
     "output_type": "stream",
     "text": [
      "Epoch:15    Loss:0.9336810930102479    NumUpdates:51\n"
     ]
    },
    {
     "data": {
      "application/vnd.jupyter.widget-view+json": {
       "model_id": "bf1806d8868244d89e268fe88808ce71",
       "version_major": 2,
       "version_minor": 0
      },
      "text/plain": [
       "  0%|          | 0/51 [00:00<?, ?it/s]"
      ]
     },
     "metadata": {},
     "output_type": "display_data"
    },
    {
     "name": "stdout",
     "output_type": "stream",
     "text": [
      "Epoch:16    Loss:0.9353868879523932    NumUpdates:51\n"
     ]
    },
    {
     "data": {
      "application/vnd.jupyter.widget-view+json": {
       "model_id": "05a7f7adaebd4bf685e8311206da2674",
       "version_major": 2,
       "version_minor": 0
      },
      "text/plain": [
       "  0%|          | 0/51 [00:00<?, ?it/s]"
      ]
     },
     "metadata": {},
     "output_type": "display_data"
    },
    {
     "name": "stdout",
     "output_type": "stream",
     "text": [
      "Epoch:17    Loss:0.8977523025344399    NumUpdates:51\n"
     ]
    },
    {
     "data": {
      "application/vnd.jupyter.widget-view+json": {
       "model_id": "ed47dcdae443470a946a68f7cb01c702",
       "version_major": 2,
       "version_minor": 0
      },
      "text/plain": [
       "  0%|          | 0/51 [00:00<?, ?it/s]"
      ]
     },
     "metadata": {},
     "output_type": "display_data"
    },
    {
     "name": "stdout",
     "output_type": "stream",
     "text": [
      "Epoch:18    Loss:0.8302953056260651    NumUpdates:51\n"
     ]
    },
    {
     "data": {
      "application/vnd.jupyter.widget-view+json": {
       "model_id": "461dd566be484ff484eabdbc8076d0cf",
       "version_major": 2,
       "version_minor": 0
      },
      "text/plain": [
       "  0%|          | 0/51 [00:00<?, ?it/s]"
      ]
     },
     "metadata": {},
     "output_type": "display_data"
    },
    {
     "name": "stdout",
     "output_type": "stream",
     "text": [
      "Epoch:19    Loss:0.7890360296941271    NumUpdates:51\n"
     ]
    },
    {
     "data": {
      "application/vnd.jupyter.widget-view+json": {
       "model_id": "369f9c8e560e43ba9e0dc0e4d87f5ca6",
       "version_major": 2,
       "version_minor": 0
      },
      "text/plain": [
       "  0%|          | 0/51 [00:00<?, ?it/s]"
      ]
     },
     "metadata": {},
     "output_type": "display_data"
    },
    {
     "name": "stdout",
     "output_type": "stream",
     "text": [
      "Epoch:20    Loss:0.8044860573375926    NumUpdates:51\n"
     ]
    },
    {
     "data": {
      "application/vnd.jupyter.widget-view+json": {
       "model_id": "3a80b2188f354f8d95a56a99fdb5ac2f",
       "version_major": 2,
       "version_minor": 0
      },
      "text/plain": [
       "  0%|          | 0/51 [00:00<?, ?it/s]"
      ]
     },
     "metadata": {},
     "output_type": "display_data"
    },
    {
     "name": "stdout",
     "output_type": "stream",
     "text": [
      "Epoch:21    Loss:0.8880785937402763    NumUpdates:51\n"
     ]
    },
    {
     "data": {
      "application/vnd.jupyter.widget-view+json": {
       "model_id": "e6c6e0d4c42e49d58f3ec328c4f3d473",
       "version_major": 2,
       "version_minor": 0
      },
      "text/plain": [
       "  0%|          | 0/51 [00:00<?, ?it/s]"
      ]
     },
     "metadata": {},
     "output_type": "display_data"
    },
    {
     "name": "stdout",
     "output_type": "stream",
     "text": [
      "Epoch:22    Loss:0.7950546612926558    NumUpdates:51\n"
     ]
    },
    {
     "data": {
      "application/vnd.jupyter.widget-view+json": {
       "model_id": "770f6636813d42508477e7c0f34daa6b",
       "version_major": 2,
       "version_minor": 0
      },
      "text/plain": [
       "  0%|          | 0/51 [00:00<?, ?it/s]"
      ]
     },
     "metadata": {},
     "output_type": "display_data"
    },
    {
     "name": "stdout",
     "output_type": "stream",
     "text": [
      "Epoch:23    Loss:0.7439847904093125    NumUpdates:51\n"
     ]
    },
    {
     "data": {
      "application/vnd.jupyter.widget-view+json": {
       "model_id": "7c4ca2bd0dec4f8096c56092fb53f74c",
       "version_major": 2,
       "version_minor": 0
      },
      "text/plain": [
       "  0%|          | 0/51 [00:00<?, ?it/s]"
      ]
     },
     "metadata": {},
     "output_type": "display_data"
    },
    {
     "name": "stdout",
     "output_type": "stream",
     "text": [
      "Epoch:24    Loss:0.7558990050764645    NumUpdates:51\n"
     ]
    },
    {
     "data": {
      "application/vnd.jupyter.widget-view+json": {
       "model_id": "807739c521ee412cb19640f4443a722c",
       "version_major": 2,
       "version_minor": 0
      },
      "text/plain": [
       "  0%|          | 0/51 [00:00<?, ?it/s]"
      ]
     },
     "metadata": {},
     "output_type": "display_data"
    },
    {
     "name": "stdout",
     "output_type": "stream",
     "text": [
      "Epoch:25    Loss:0.7282232268183839    NumUpdates:51\n"
     ]
    },
    {
     "data": {
      "application/vnd.jupyter.widget-view+json": {
       "model_id": "a183fafa4eca4ce9ae4806afec7b7761",
       "version_major": 2,
       "version_minor": 0
      },
      "text/plain": [
       "  0%|          | 0/51 [00:00<?, ?it/s]"
      ]
     },
     "metadata": {},
     "output_type": "display_data"
    },
    {
     "name": "stdout",
     "output_type": "stream",
     "text": [
      "Epoch:26    Loss:0.6925102472305298    NumUpdates:51\n"
     ]
    },
    {
     "data": {
      "application/vnd.jupyter.widget-view+json": {
       "model_id": "b490921c55aa4a37ba9af0d6cc55e241",
       "version_major": 2,
       "version_minor": 0
      },
      "text/plain": [
       "  0%|          | 0/51 [00:00<?, ?it/s]"
      ]
     },
     "metadata": {},
     "output_type": "display_data"
    },
    {
     "name": "stdout",
     "output_type": "stream",
     "text": [
      "Epoch:27    Loss:0.6906896420553619    NumUpdates:51\n"
     ]
    },
    {
     "data": {
      "application/vnd.jupyter.widget-view+json": {
       "model_id": "69514a766eec4183bfe26137ed416c36",
       "version_major": 2,
       "version_minor": 0
      },
      "text/plain": [
       "  0%|          | 0/51 [00:00<?, ?it/s]"
      ]
     },
     "metadata": {},
     "output_type": "display_data"
    },
    {
     "name": "stdout",
     "output_type": "stream",
     "text": [
      "Epoch:28    Loss:0.6822718428630455    NumUpdates:51\n"
     ]
    },
    {
     "data": {
      "application/vnd.jupyter.widget-view+json": {
       "model_id": "de7f6fba48c04fd8aa27a048b28d9fa7",
       "version_major": 2,
       "version_minor": 0
      },
      "text/plain": [
       "  0%|          | 0/51 [00:00<?, ?it/s]"
      ]
     },
     "metadata": {},
     "output_type": "display_data"
    },
    {
     "name": "stdout",
     "output_type": "stream",
     "text": [
      "Epoch:29    Loss:0.6896631402127883    NumUpdates:51\n"
     ]
    },
    {
     "data": {
      "application/vnd.jupyter.widget-view+json": {
       "model_id": "8956258b88954786898021ad65bc82e7",
       "version_major": 2,
       "version_minor": 0
      },
      "text/plain": [
       "  0%|          | 0/51 [00:00<?, ?it/s]"
      ]
     },
     "metadata": {},
     "output_type": "display_data"
    },
    {
     "name": "stdout",
     "output_type": "stream",
     "text": [
      "Epoch:30    Loss:0.7532949751498652    NumUpdates:51\n"
     ]
    },
    {
     "data": {
      "application/vnd.jupyter.widget-view+json": {
       "model_id": "067fbd7cad52469a8cb405364744229d",
       "version_major": 2,
       "version_minor": 0
      },
      "text/plain": [
       "  0%|          | 0/51 [00:00<?, ?it/s]"
      ]
     },
     "metadata": {},
     "output_type": "display_data"
    },
    {
     "name": "stdout",
     "output_type": "stream",
     "text": [
      "Epoch:31    Loss:0.731375562209709    NumUpdates:51\n"
     ]
    },
    {
     "data": {
      "application/vnd.jupyter.widget-view+json": {
       "model_id": "529d7f5aa441426182e8345d2b12ec91",
       "version_major": 2,
       "version_minor": 0
      },
      "text/plain": [
       "  0%|          | 0/51 [00:00<?, ?it/s]"
      ]
     },
     "metadata": {},
     "output_type": "display_data"
    },
    {
     "name": "stdout",
     "output_type": "stream",
     "text": [
      "Epoch:32    Loss:0.6827894823223937    NumUpdates:51\n"
     ]
    },
    {
     "data": {
      "application/vnd.jupyter.widget-view+json": {
       "model_id": "975fb5e5b32249299df3b15ee601a8a7",
       "version_major": 2,
       "version_minor": 0
      },
      "text/plain": [
       "  0%|          | 0/51 [00:00<?, ?it/s]"
      ]
     },
     "metadata": {},
     "output_type": "display_data"
    },
    {
     "name": "stdout",
     "output_type": "stream",
     "text": [
      "Epoch:33    Loss:0.6524311187220555    NumUpdates:51\n"
     ]
    },
    {
     "data": {
      "application/vnd.jupyter.widget-view+json": {
       "model_id": "189c01de6e514d10934b596a6b2f6b7d",
       "version_major": 2,
       "version_minor": 0
      },
      "text/plain": [
       "  0%|          | 0/51 [00:00<?, ?it/s]"
      ]
     },
     "metadata": {},
     "output_type": "display_data"
    },
    {
     "name": "stdout",
     "output_type": "stream",
     "text": [
      "Epoch:34    Loss:0.6438310029459935    NumUpdates:51\n"
     ]
    },
    {
     "data": {
      "application/vnd.jupyter.widget-view+json": {
       "model_id": "2cfec87a0c4f48369967653d7852c8ee",
       "version_major": 2,
       "version_minor": 0
      },
      "text/plain": [
       "  0%|          | 0/51 [00:00<?, ?it/s]"
      ]
     },
     "metadata": {},
     "output_type": "display_data"
    },
    {
     "name": "stdout",
     "output_type": "stream",
     "text": [
      "Epoch:35    Loss:0.6751197646645939    NumUpdates:51\n"
     ]
    },
    {
     "data": {
      "application/vnd.jupyter.widget-view+json": {
       "model_id": "0fe6ecc9970d4fcba26d0b51d65eebda",
       "version_major": 2,
       "version_minor": 0
      },
      "text/plain": [
       "  0%|          | 0/51 [00:00<?, ?it/s]"
      ]
     },
     "metadata": {},
     "output_type": "display_data"
    },
    {
     "name": "stdout",
     "output_type": "stream",
     "text": [
      "Epoch:36    Loss:0.7844292661722969    NumUpdates:51\n"
     ]
    },
    {
     "data": {
      "application/vnd.jupyter.widget-view+json": {
       "model_id": "818cfccc010e43af850f5877c5734402",
       "version_major": 2,
       "version_minor": 0
      },
      "text/plain": [
       "  0%|          | 0/51 [00:00<?, ?it/s]"
      ]
     },
     "metadata": {},
     "output_type": "display_data"
    },
    {
     "name": "stdout",
     "output_type": "stream",
     "text": [
      "Epoch:37    Loss:0.7641150168344086    NumUpdates:51\n"
     ]
    },
    {
     "data": {
      "application/vnd.jupyter.widget-view+json": {
       "model_id": "4481c6c903574d6b896eba3712c52eee",
       "version_major": 2,
       "version_minor": 0
      },
      "text/plain": [
       "  0%|          | 0/51 [00:00<?, ?it/s]"
      ]
     },
     "metadata": {},
     "output_type": "display_data"
    },
    {
     "name": "stdout",
     "output_type": "stream",
     "text": [
      "Epoch:38    Loss:0.6660197634322971    NumUpdates:51\n"
     ]
    },
    {
     "data": {
      "application/vnd.jupyter.widget-view+json": {
       "model_id": "59ab9f2de5374d80a6ef044880a38bd7",
       "version_major": 2,
       "version_minor": 0
      },
      "text/plain": [
       "  0%|          | 0/51 [00:00<?, ?it/s]"
      ]
     },
     "metadata": {},
     "output_type": "display_data"
    },
    {
     "name": "stdout",
     "output_type": "stream",
     "text": [
      "Epoch:39    Loss:0.6265906411058763    NumUpdates:51\n"
     ]
    },
    {
     "data": {
      "application/vnd.jupyter.widget-view+json": {
       "model_id": "f51ad0155c424def9c236861a3672c65",
       "version_major": 2,
       "version_minor": 0
      },
      "text/plain": [
       "  0%|          | 0/51 [00:00<?, ?it/s]"
      ]
     },
     "metadata": {},
     "output_type": "display_data"
    },
    {
     "name": "stdout",
     "output_type": "stream",
     "text": [
      "Epoch:40    Loss:0.613878091176351    NumUpdates:51\n"
     ]
    },
    {
     "data": {
      "application/vnd.jupyter.widget-view+json": {
       "model_id": "52a6f980f1014e3f84807bfe47959b56",
       "version_major": 2,
       "version_minor": 0
      },
      "text/plain": [
       "  0%|          | 0/51 [00:00<?, ?it/s]"
      ]
     },
     "metadata": {},
     "output_type": "display_data"
    },
    {
     "name": "stdout",
     "output_type": "stream",
     "text": [
      "Epoch:41    Loss:0.609981446873908    NumUpdates:51\n"
     ]
    },
    {
     "data": {
      "application/vnd.jupyter.widget-view+json": {
       "model_id": "c06781620eb7437c8e9d72c2e9244dc4",
       "version_major": 2,
       "version_minor": 0
      },
      "text/plain": [
       "  0%|          | 0/51 [00:00<?, ?it/s]"
      ]
     },
     "metadata": {},
     "output_type": "display_data"
    },
    {
     "name": "stdout",
     "output_type": "stream",
     "text": [
      "Epoch:42    Loss:0.6221888638010212    NumUpdates:51\n"
     ]
    },
    {
     "data": {
      "application/vnd.jupyter.widget-view+json": {
       "model_id": "8d0f88097c7c4e11a1b14d43537367c4",
       "version_major": 2,
       "version_minor": 0
      },
      "text/plain": [
       "  0%|          | 0/51 [00:00<?, ?it/s]"
      ]
     },
     "metadata": {},
     "output_type": "display_data"
    },
    {
     "name": "stdout",
     "output_type": "stream",
     "text": [
      "Epoch:43    Loss:0.6160614034708809    NumUpdates:51\n"
     ]
    },
    {
     "data": {
      "application/vnd.jupyter.widget-view+json": {
       "model_id": "314fe6c63bb24728b59a0ab5143bd90f",
       "version_major": 2,
       "version_minor": 0
      },
      "text/plain": [
       "  0%|          | 0/51 [00:00<?, ?it/s]"
      ]
     },
     "metadata": {},
     "output_type": "display_data"
    },
    {
     "name": "stdout",
     "output_type": "stream",
     "text": [
      "Epoch:44    Loss:0.6289049001301036    NumUpdates:51\n"
     ]
    },
    {
     "data": {
      "application/vnd.jupyter.widget-view+json": {
       "model_id": "3d7a94f146de48edbec8e5793338f5ba",
       "version_major": 2,
       "version_minor": 0
      },
      "text/plain": [
       "  0%|          | 0/51 [00:00<?, ?it/s]"
      ]
     },
     "metadata": {},
     "output_type": "display_data"
    },
    {
     "name": "stdout",
     "output_type": "stream",
     "text": [
      "Epoch:45    Loss:0.7109817465146383    NumUpdates:51\n"
     ]
    },
    {
     "data": {
      "application/vnd.jupyter.widget-view+json": {
       "model_id": "27fbf3a2a1134dd1b9b864652b7c049b",
       "version_major": 2,
       "version_minor": 0
      },
      "text/plain": [
       "  0%|          | 0/51 [00:00<?, ?it/s]"
      ]
     },
     "metadata": {},
     "output_type": "display_data"
    },
    {
     "name": "stdout",
     "output_type": "stream",
     "text": [
      "Epoch:46    Loss:0.7132525163538316    NumUpdates:51\n"
     ]
    },
    {
     "data": {
      "application/vnd.jupyter.widget-view+json": {
       "model_id": "cc92117b1c5d41f9bf195d6cc825c1dd",
       "version_major": 2,
       "version_minor": 0
      },
      "text/plain": [
       "  0%|          | 0/51 [00:00<?, ?it/s]"
      ]
     },
     "metadata": {},
     "output_type": "display_data"
    },
    {
     "name": "stdout",
     "output_type": "stream",
     "text": [
      "Epoch:47    Loss:0.6926412114910051    NumUpdates:51\n"
     ]
    },
    {
     "data": {
      "application/vnd.jupyter.widget-view+json": {
       "model_id": "0f80f179a1be422fbc3a186d47fefac0",
       "version_major": 2,
       "version_minor": 0
      },
      "text/plain": [
       "  0%|          | 0/51 [00:00<?, ?it/s]"
      ]
     },
     "metadata": {},
     "output_type": "display_data"
    },
    {
     "name": "stdout",
     "output_type": "stream",
     "text": [
      "Epoch:48    Loss:0.59312756505667    NumUpdates:51\n"
     ]
    },
    {
     "data": {
      "application/vnd.jupyter.widget-view+json": {
       "model_id": "ea0ba2c3e6b9467691d6a209fffb3eb9",
       "version_major": 2,
       "version_minor": 0
      },
      "text/plain": [
       "  0%|          | 0/51 [00:00<?, ?it/s]"
      ]
     },
     "metadata": {},
     "output_type": "display_data"
    },
    {
     "name": "stdout",
     "output_type": "stream",
     "text": [
      "Epoch:49    Loss:0.5621241132418314    NumUpdates:51\n"
     ]
    },
    {
     "data": {
      "application/vnd.jupyter.widget-view+json": {
       "model_id": "066e0673028d43b6a444dcd19cf5abe9",
       "version_major": 2,
       "version_minor": 0
      },
      "text/plain": [
       "  0%|          | 0/51 [00:00<?, ?it/s]"
      ]
     },
     "metadata": {},
     "output_type": "display_data"
    },
    {
     "name": "stdout",
     "output_type": "stream",
     "text": [
      "Epoch:50    Loss:0.552619575285444    NumUpdates:51\n"
     ]
    },
    {
     "data": {
      "application/vnd.jupyter.widget-view+json": {
       "model_id": "44852684a9c6469dbca921ee9729f2a0",
       "version_major": 2,
       "version_minor": 0
      },
      "text/plain": [
       "  0%|          | 0/51 [00:00<?, ?it/s]"
      ]
     },
     "metadata": {},
     "output_type": "display_data"
    },
    {
     "name": "stdout",
     "output_type": "stream",
     "text": [
      "Epoch:51    Loss:0.5453633782910365    NumUpdates:51\n"
     ]
    },
    {
     "data": {
      "application/vnd.jupyter.widget-view+json": {
       "model_id": "5f2c1eda82784f6b8cdc221de1b9c4e4",
       "version_major": 2,
       "version_minor": 0
      },
      "text/plain": [
       "  0%|          | 0/51 [00:00<?, ?it/s]"
      ]
     },
     "metadata": {},
     "output_type": "display_data"
    },
    {
     "name": "stdout",
     "output_type": "stream",
     "text": [
      "Epoch:52    Loss:0.5413103734745699    NumUpdates:51\n"
     ]
    },
    {
     "data": {
      "application/vnd.jupyter.widget-view+json": {
       "model_id": "ce6a331026d44339b4263e2ed7db747e",
       "version_major": 2,
       "version_minor": 0
      },
      "text/plain": [
       "  0%|          | 0/51 [00:00<?, ?it/s]"
      ]
     },
     "metadata": {},
     "output_type": "display_data"
    },
    {
     "name": "stdout",
     "output_type": "stream",
     "text": [
      "Epoch:53    Loss:0.5350342246831632    NumUpdates:51\n"
     ]
    },
    {
     "data": {
      "application/vnd.jupyter.widget-view+json": {
       "model_id": "f402daa6c75e4eb9a65752d379dad982",
       "version_major": 2,
       "version_minor": 0
      },
      "text/plain": [
       "  0%|          | 0/51 [00:00<?, ?it/s]"
      ]
     },
     "metadata": {},
     "output_type": "display_data"
    },
    {
     "name": "stdout",
     "output_type": "stream",
     "text": [
      "Epoch:54    Loss:0.5304190551533419    NumUpdates:51\n"
     ]
    },
    {
     "data": {
      "application/vnd.jupyter.widget-view+json": {
       "model_id": "4ec23c1f006b413ba430280d857ba67c",
       "version_major": 2,
       "version_minor": 0
      },
      "text/plain": [
       "  0%|          | 0/51 [00:00<?, ?it/s]"
      ]
     },
     "metadata": {},
     "output_type": "display_data"
    },
    {
     "name": "stdout",
     "output_type": "stream",
     "text": [
      "Epoch:55    Loss:0.52770089635662    NumUpdates:51\n"
     ]
    },
    {
     "data": {
      "application/vnd.jupyter.widget-view+json": {
       "model_id": "86767a0fc2f840cfacf57f7187f9c895",
       "version_major": 2,
       "version_minor": 0
      },
      "text/plain": [
       "  0%|          | 0/51 [00:00<?, ?it/s]"
      ]
     },
     "metadata": {},
     "output_type": "display_data"
    },
    {
     "name": "stdout",
     "output_type": "stream",
     "text": [
      "Epoch:56    Loss:0.525419137057136    NumUpdates:51\n"
     ]
    },
    {
     "data": {
      "application/vnd.jupyter.widget-view+json": {
       "model_id": "c89271be91184b98adbb828b6e179abe",
       "version_major": 2,
       "version_minor": 0
      },
      "text/plain": [
       "  0%|          | 0/51 [00:00<?, ?it/s]"
      ]
     },
     "metadata": {},
     "output_type": "display_data"
    },
    {
     "name": "stdout",
     "output_type": "stream",
     "text": [
      "Epoch:57    Loss:0.52248935138478    NumUpdates:51\n"
     ]
    },
    {
     "data": {
      "application/vnd.jupyter.widget-view+json": {
       "model_id": "f2bc343bea8c4d21b09c0c4932f65bac",
       "version_major": 2,
       "version_minor": 0
      },
      "text/plain": [
       "  0%|          | 0/51 [00:00<?, ?it/s]"
      ]
     },
     "metadata": {},
     "output_type": "display_data"
    },
    {
     "name": "stdout",
     "output_type": "stream",
     "text": [
      "Epoch:58    Loss:0.521086228244445    NumUpdates:51\n"
     ]
    },
    {
     "data": {
      "application/vnd.jupyter.widget-view+json": {
       "model_id": "b06ca3d575594548907bc39a57ad7602",
       "version_major": 2,
       "version_minor": 0
      },
      "text/plain": [
       "  0%|          | 0/51 [00:00<?, ?it/s]"
      ]
     },
     "metadata": {},
     "output_type": "display_data"
    },
    {
     "name": "stdout",
     "output_type": "stream",
     "text": [
      "Epoch:59    Loss:0.5190296681488261    NumUpdates:51\n"
     ]
    },
    {
     "data": {
      "application/vnd.jupyter.widget-view+json": {
       "model_id": "1118cce69b374e40a08efc49ebc64bb3",
       "version_major": 2,
       "version_minor": 0
      },
      "text/plain": [
       "  0%|          | 0/51 [00:00<?, ?it/s]"
      ]
     },
     "metadata": {},
     "output_type": "display_data"
    },
    {
     "name": "stdout",
     "output_type": "stream",
     "text": [
      "Epoch:60    Loss:0.5151291361042097    NumUpdates:51\n"
     ]
    },
    {
     "data": {
      "application/vnd.jupyter.widget-view+json": {
       "model_id": "a9e9baa40ea64fbbb8f9aa3044728f06",
       "version_major": 2,
       "version_minor": 0
      },
      "text/plain": [
       "  0%|          | 0/51 [00:00<?, ?it/s]"
      ]
     },
     "metadata": {},
     "output_type": "display_data"
    },
    {
     "name": "stdout",
     "output_type": "stream",
     "text": [
      "Epoch:61    Loss:0.5116719913248923    NumUpdates:51\n"
     ]
    },
    {
     "data": {
      "application/vnd.jupyter.widget-view+json": {
       "model_id": "4d4fa778477645068a5098383704d51f",
       "version_major": 2,
       "version_minor": 0
      },
      "text/plain": [
       "  0%|          | 0/51 [00:00<?, ?it/s]"
      ]
     },
     "metadata": {},
     "output_type": "display_data"
    },
    {
     "name": "stdout",
     "output_type": "stream",
     "text": [
      "Epoch:62    Loss:0.5115203500962725    NumUpdates:51\n"
     ]
    },
    {
     "data": {
      "application/vnd.jupyter.widget-view+json": {
       "model_id": "69175402d09244b994605bcf00a5af7c",
       "version_major": 2,
       "version_minor": 0
      },
      "text/plain": [
       "  0%|          | 0/51 [00:00<?, ?it/s]"
      ]
     },
     "metadata": {},
     "output_type": "display_data"
    },
    {
     "name": "stdout",
     "output_type": "stream",
     "text": [
      "Epoch:63    Loss:0.5092415377205494    NumUpdates:51\n"
     ]
    },
    {
     "data": {
      "application/vnd.jupyter.widget-view+json": {
       "model_id": "0c610b9719954a3c88e2f1bed8316dea",
       "version_major": 2,
       "version_minor": 0
      },
      "text/plain": [
       "  0%|          | 0/51 [00:00<?, ?it/s]"
      ]
     },
     "metadata": {},
     "output_type": "display_data"
    },
    {
     "name": "stdout",
     "output_type": "stream",
     "text": [
      "Epoch:64    Loss:0.5054998567291334    NumUpdates:51\n"
     ]
    },
    {
     "data": {
      "application/vnd.jupyter.widget-view+json": {
       "model_id": "0cd3021b5ca045ac871f1a9ce31d2e13",
       "version_major": 2,
       "version_minor": 0
      },
      "text/plain": [
       "  0%|          | 0/51 [00:00<?, ?it/s]"
      ]
     },
     "metadata": {},
     "output_type": "display_data"
    },
    {
     "name": "stdout",
     "output_type": "stream",
     "text": [
      "Epoch:65    Loss:0.5042284294670704    NumUpdates:51\n"
     ]
    },
    {
     "data": {
      "application/vnd.jupyter.widget-view+json": {
       "model_id": "8e3975eb57244227b757d57d6a86e345",
       "version_major": 2,
       "version_minor": 0
      },
      "text/plain": [
       "  0%|          | 0/51 [00:00<?, ?it/s]"
      ]
     },
     "metadata": {},
     "output_type": "display_data"
    },
    {
     "name": "stdout",
     "output_type": "stream",
     "text": [
      "Epoch:66    Loss:0.5033801548621234    NumUpdates:51\n"
     ]
    },
    {
     "data": {
      "application/vnd.jupyter.widget-view+json": {
       "model_id": "a67246d12a6348d28867556d9f0b1412",
       "version_major": 2,
       "version_minor": 0
      },
      "text/plain": [
       "  0%|          | 0/51 [00:00<?, ?it/s]"
      ]
     },
     "metadata": {},
     "output_type": "display_data"
    },
    {
     "name": "stdout",
     "output_type": "stream",
     "text": [
      "Epoch:67    Loss:0.5020633141199747    NumUpdates:51\n"
     ]
    },
    {
     "data": {
      "application/vnd.jupyter.widget-view+json": {
       "model_id": "0b26e21557f64fca9c46b8bb2f0c128a",
       "version_major": 2,
       "version_minor": 0
      },
      "text/plain": [
       "  0%|          | 0/51 [00:00<?, ?it/s]"
      ]
     },
     "metadata": {},
     "output_type": "display_data"
    },
    {
     "name": "stdout",
     "output_type": "stream",
     "text": [
      "Epoch:68    Loss:0.5041243398890776    NumUpdates:51\n"
     ]
    },
    {
     "data": {
      "application/vnd.jupyter.widget-view+json": {
       "model_id": "e56cfcad961d487e95ac63cf703a1a83",
       "version_major": 2,
       "version_minor": 0
      },
      "text/plain": [
       "  0%|          | 0/51 [00:00<?, ?it/s]"
      ]
     },
     "metadata": {},
     "output_type": "display_data"
    },
    {
     "name": "stdout",
     "output_type": "stream",
     "text": [
      "Epoch:69    Loss:0.4991341040414922    NumUpdates:51\n"
     ]
    },
    {
     "data": {
      "application/vnd.jupyter.widget-view+json": {
       "model_id": "2733cb789c084d979cff848876c1c53f",
       "version_major": 2,
       "version_minor": 0
      },
      "text/plain": [
       "  0%|          | 0/51 [00:00<?, ?it/s]"
      ]
     },
     "metadata": {},
     "output_type": "display_data"
    },
    {
     "name": "stdout",
     "output_type": "stream",
     "text": [
      "Epoch:70    Loss:0.49787689540900437    NumUpdates:51\n"
     ]
    },
    {
     "data": {
      "application/vnd.jupyter.widget-view+json": {
       "model_id": "fc26794dddae4e0bbf1408777e50ef08",
       "version_major": 2,
       "version_minor": 0
      },
      "text/plain": [
       "  0%|          | 0/51 [00:00<?, ?it/s]"
      ]
     },
     "metadata": {},
     "output_type": "display_data"
    },
    {
     "name": "stdout",
     "output_type": "stream",
     "text": [
      "Epoch:71    Loss:0.4958985488788754    NumUpdates:51\n"
     ]
    },
    {
     "data": {
      "application/vnd.jupyter.widget-view+json": {
       "model_id": "2393257917f34e8b9d4b121da3e21e96",
       "version_major": 2,
       "version_minor": 0
      },
      "text/plain": [
       "  0%|          | 0/51 [00:00<?, ?it/s]"
      ]
     },
     "metadata": {},
     "output_type": "display_data"
    },
    {
     "name": "stdout",
     "output_type": "stream",
     "text": [
      "Epoch:72    Loss:0.4955733459369809    NumUpdates:51\n"
     ]
    },
    {
     "data": {
      "application/vnd.jupyter.widget-view+json": {
       "model_id": "4d16a7e20c2645d791239ec796a4f140",
       "version_major": 2,
       "version_minor": 0
      },
      "text/plain": [
       "  0%|          | 0/51 [00:00<?, ?it/s]"
      ]
     },
     "metadata": {},
     "output_type": "display_data"
    },
    {
     "name": "stdout",
     "output_type": "stream",
     "text": [
      "Epoch:73    Loss:0.49463851662243113    NumUpdates:51\n"
     ]
    },
    {
     "data": {
      "application/vnd.jupyter.widget-view+json": {
       "model_id": "a4c8b700839c431290c37c5179d328af",
       "version_major": 2,
       "version_minor": 0
      },
      "text/plain": [
       "  0%|          | 0/51 [00:00<?, ?it/s]"
      ]
     },
     "metadata": {},
     "output_type": "display_data"
    },
    {
     "name": "stdout",
     "output_type": "stream",
     "text": [
      "Epoch:74    Loss:0.4925476704158035    NumUpdates:51\n"
     ]
    },
    {
     "data": {
      "application/vnd.jupyter.widget-view+json": {
       "model_id": "3fd447b9151e44c591296bcc306fa09c",
       "version_major": 2,
       "version_minor": 0
      },
      "text/plain": [
       "  0%|          | 0/51 [00:00<?, ?it/s]"
      ]
     },
     "metadata": {},
     "output_type": "display_data"
    },
    {
     "name": "stdout",
     "output_type": "stream",
     "text": [
      "Epoch:75    Loss:0.4909915731233709    NumUpdates:51\n"
     ]
    },
    {
     "data": {
      "application/vnd.jupyter.widget-view+json": {
       "model_id": "0743b39a01fd45c4976b293beb1786a9",
       "version_major": 2,
       "version_minor": 0
      },
      "text/plain": [
       "  0%|          | 0/51 [00:00<?, ?it/s]"
      ]
     },
     "metadata": {},
     "output_type": "display_data"
    },
    {
     "name": "stdout",
     "output_type": "stream",
     "text": [
      "Epoch:76    Loss:0.48934526887594487    NumUpdates:51\n"
     ]
    },
    {
     "data": {
      "application/vnd.jupyter.widget-view+json": {
       "model_id": "ee573460342041459147a45c91448744",
       "version_major": 2,
       "version_minor": 0
      },
      "text/plain": [
       "  0%|          | 0/51 [00:00<?, ?it/s]"
      ]
     },
     "metadata": {},
     "output_type": "display_data"
    },
    {
     "name": "stdout",
     "output_type": "stream",
     "text": [
      "Epoch:77    Loss:0.4888007313597436    NumUpdates:51\n"
     ]
    },
    {
     "data": {
      "application/vnd.jupyter.widget-view+json": {
       "model_id": "8168bb0ec212489d999a9f051bf2b747",
       "version_major": 2,
       "version_minor": 0
      },
      "text/plain": [
       "  0%|          | 0/51 [00:00<?, ?it/s]"
      ]
     },
     "metadata": {},
     "output_type": "display_data"
    },
    {
     "name": "stdout",
     "output_type": "stream",
     "text": [
      "Epoch:78    Loss:0.4881328034634684    NumUpdates:51\n"
     ]
    },
    {
     "data": {
      "application/vnd.jupyter.widget-view+json": {
       "model_id": "00e65e5e0c914dee9926a72aaae2ef99",
       "version_major": 2,
       "version_minor": 0
      },
      "text/plain": [
       "  0%|          | 0/51 [00:00<?, ?it/s]"
      ]
     },
     "metadata": {},
     "output_type": "display_data"
    },
    {
     "name": "stdout",
     "output_type": "stream",
     "text": [
      "Epoch:79    Loss:0.48526111303591263    NumUpdates:51\n"
     ]
    },
    {
     "data": {
      "application/vnd.jupyter.widget-view+json": {
       "model_id": "6a457b4082bb44578edfccfce0ef74c0",
       "version_major": 2,
       "version_minor": 0
      },
      "text/plain": [
       "  0%|          | 0/51 [00:00<?, ?it/s]"
      ]
     },
     "metadata": {},
     "output_type": "display_data"
    },
    {
     "name": "stdout",
     "output_type": "stream",
     "text": [
      "Epoch:80    Loss:0.4842976916070078    NumUpdates:51\n"
     ]
    },
    {
     "data": {
      "application/vnd.jupyter.widget-view+json": {
       "model_id": "e1a6e77a5c4145c0937c7aef5a7a6a34",
       "version_major": 2,
       "version_minor": 0
      },
      "text/plain": [
       "  0%|          | 0/51 [00:00<?, ?it/s]"
      ]
     },
     "metadata": {},
     "output_type": "display_data"
    },
    {
     "name": "stdout",
     "output_type": "stream",
     "text": [
      "Epoch:81    Loss:0.4831380721400766    NumUpdates:51\n"
     ]
    },
    {
     "data": {
      "application/vnd.jupyter.widget-view+json": {
       "model_id": "7b62262c6c984d89a0ea35c012c68473",
       "version_major": 2,
       "version_minor": 0
      },
      "text/plain": [
       "  0%|          | 0/51 [00:00<?, ?it/s]"
      ]
     },
     "metadata": {},
     "output_type": "display_data"
    },
    {
     "name": "stdout",
     "output_type": "stream",
     "text": [
      "Epoch:82    Loss:0.4825197078433691    NumUpdates:51\n"
     ]
    },
    {
     "data": {
      "application/vnd.jupyter.widget-view+json": {
       "model_id": "c060c88f9ed54805aeb5feb8c27942f6",
       "version_major": 2,
       "version_minor": 0
      },
      "text/plain": [
       "  0%|          | 0/51 [00:00<?, ?it/s]"
      ]
     },
     "metadata": {},
     "output_type": "display_data"
    },
    {
     "name": "stdout",
     "output_type": "stream",
     "text": [
      "Epoch:83    Loss:0.4796905488360162    NumUpdates:51\n"
     ]
    },
    {
     "data": {
      "application/vnd.jupyter.widget-view+json": {
       "model_id": "2b206e6c6c484bdb8496de9afb7b7acf",
       "version_major": 2,
       "version_minor": 0
      },
      "text/plain": [
       "  0%|          | 0/51 [00:00<?, ?it/s]"
      ]
     },
     "metadata": {},
     "output_type": "display_data"
    },
    {
     "name": "stdout",
     "output_type": "stream",
     "text": [
      "Epoch:84    Loss:0.4799507067484014    NumUpdates:51\n"
     ]
    },
    {
     "data": {
      "application/vnd.jupyter.widget-view+json": {
       "model_id": "e79af59f1de74c3f8944cce2b583e8f8",
       "version_major": 2,
       "version_minor": 0
      },
      "text/plain": [
       "  0%|          | 0/51 [00:00<?, ?it/s]"
      ]
     },
     "metadata": {},
     "output_type": "display_data"
    },
    {
     "name": "stdout",
     "output_type": "stream",
     "text": [
      "Epoch:85    Loss:0.4802694834914862    NumUpdates:51\n"
     ]
    },
    {
     "data": {
      "application/vnd.jupyter.widget-view+json": {
       "model_id": "17495be9e19f4ee5a6432e73b010bb40",
       "version_major": 2,
       "version_minor": 0
      },
      "text/plain": [
       "  0%|          | 0/51 [00:00<?, ?it/s]"
      ]
     },
     "metadata": {},
     "output_type": "display_data"
    },
    {
     "name": "stdout",
     "output_type": "stream",
     "text": [
      "Epoch:86    Loss:0.4804549439280641    NumUpdates:51\n"
     ]
    },
    {
     "data": {
      "application/vnd.jupyter.widget-view+json": {
       "model_id": "225d58abac774a0c88834e1839448266",
       "version_major": 2,
       "version_minor": 0
      },
      "text/plain": [
       "  0%|          | 0/51 [00:00<?, ?it/s]"
      ]
     },
     "metadata": {},
     "output_type": "display_data"
    },
    {
     "name": "stdout",
     "output_type": "stream",
     "text": [
      "Epoch:87    Loss:0.4815164956392026    NumUpdates:51\n"
     ]
    },
    {
     "data": {
      "application/vnd.jupyter.widget-view+json": {
       "model_id": "0f179c73ec234cbe8b53477806f629ff",
       "version_major": 2,
       "version_minor": 0
      },
      "text/plain": [
       "  0%|          | 0/51 [00:00<?, ?it/s]"
      ]
     },
     "metadata": {},
     "output_type": "display_data"
    },
    {
     "name": "stdout",
     "output_type": "stream",
     "text": [
      "Epoch:88    Loss:0.4780098018692989    NumUpdates:51\n"
     ]
    },
    {
     "data": {
      "application/vnd.jupyter.widget-view+json": {
       "model_id": "34c28a7d03924224b2cbda0db6d70aef",
       "version_major": 2,
       "version_minor": 0
      },
      "text/plain": [
       "  0%|          | 0/51 [00:00<?, ?it/s]"
      ]
     },
     "metadata": {},
     "output_type": "display_data"
    },
    {
     "name": "stdout",
     "output_type": "stream",
     "text": [
      "Epoch:89    Loss:0.47700445383202794    NumUpdates:51\n"
     ]
    },
    {
     "data": {
      "application/vnd.jupyter.widget-view+json": {
       "model_id": "488a1529fae84893963289ac6fd9caa6",
       "version_major": 2,
       "version_minor": 0
      },
      "text/plain": [
       "  0%|          | 0/51 [00:00<?, ?it/s]"
      ]
     },
     "metadata": {},
     "output_type": "display_data"
    },
    {
     "name": "stdout",
     "output_type": "stream",
     "text": [
      "Epoch:90    Loss:0.47764242922558503    NumUpdates:51\n"
     ]
    },
    {
     "data": {
      "application/vnd.jupyter.widget-view+json": {
       "model_id": "3952f0b5bf7240e6b4c5d31415164501",
       "version_major": 2,
       "version_minor": 0
      },
      "text/plain": [
       "  0%|          | 0/51 [00:00<?, ?it/s]"
      ]
     },
     "metadata": {},
     "output_type": "display_data"
    },
    {
     "name": "stdout",
     "output_type": "stream",
     "text": [
      "Epoch:91    Loss:0.47648314868702607    NumUpdates:51\n"
     ]
    },
    {
     "data": {
      "application/vnd.jupyter.widget-view+json": {
       "model_id": "0297268de5b44a44b8d8aa801bdd1221",
       "version_major": 2,
       "version_minor": 0
      },
      "text/plain": [
       "  0%|          | 0/51 [00:00<?, ?it/s]"
      ]
     },
     "metadata": {},
     "output_type": "display_data"
    },
    {
     "name": "stdout",
     "output_type": "stream",
     "text": [
      "Epoch:92    Loss:0.47603052620794256    NumUpdates:51\n"
     ]
    },
    {
     "data": {
      "application/vnd.jupyter.widget-view+json": {
       "model_id": "b1458cee6396428c860c1fc30dfe778c",
       "version_major": 2,
       "version_minor": 0
      },
      "text/plain": [
       "  0%|          | 0/51 [00:00<?, ?it/s]"
      ]
     },
     "metadata": {},
     "output_type": "display_data"
    },
    {
     "name": "stdout",
     "output_type": "stream",
     "text": [
      "Epoch:93    Loss:0.4738638500372569    NumUpdates:51\n"
     ]
    },
    {
     "data": {
      "application/vnd.jupyter.widget-view+json": {
       "model_id": "1e1aae16d1d84c368623d59eb2da244b",
       "version_major": 2,
       "version_minor": 0
      },
      "text/plain": [
       "  0%|          | 0/51 [00:00<?, ?it/s]"
      ]
     },
     "metadata": {},
     "output_type": "display_data"
    },
    {
     "name": "stdout",
     "output_type": "stream",
     "text": [
      "Epoch:94    Loss:0.4743675735651278    NumUpdates:51\n"
     ]
    },
    {
     "data": {
      "application/vnd.jupyter.widget-view+json": {
       "model_id": "ef4cbab3012b415a803a6d145ed319d4",
       "version_major": 2,
       "version_minor": 0
      },
      "text/plain": [
       "  0%|          | 0/51 [00:00<?, ?it/s]"
      ]
     },
     "metadata": {},
     "output_type": "display_data"
    },
    {
     "name": "stdout",
     "output_type": "stream",
     "text": [
      "Epoch:95    Loss:0.4741840824192646    NumUpdates:51\n"
     ]
    },
    {
     "data": {
      "application/vnd.jupyter.widget-view+json": {
       "model_id": "664b4f0f6ecb41e797c81631b8f9cdde",
       "version_major": 2,
       "version_minor": 0
      },
      "text/plain": [
       "  0%|          | 0/51 [00:00<?, ?it/s]"
      ]
     },
     "metadata": {},
     "output_type": "display_data"
    },
    {
     "name": "stdout",
     "output_type": "stream",
     "text": [
      "Epoch:96    Loss:0.47138091045267444    NumUpdates:51\n"
     ]
    },
    {
     "data": {
      "application/vnd.jupyter.widget-view+json": {
       "model_id": "3ff5e725c49a48258e15aeea4224d73c",
       "version_major": 2,
       "version_minor": 0
      },
      "text/plain": [
       "  0%|          | 0/51 [00:00<?, ?it/s]"
      ]
     },
     "metadata": {},
     "output_type": "display_data"
    },
    {
     "name": "stdout",
     "output_type": "stream",
     "text": [
      "Epoch:97    Loss:0.47208035810320986    NumUpdates:51\n"
     ]
    },
    {
     "data": {
      "application/vnd.jupyter.widget-view+json": {
       "model_id": "2a8cc4e89a824582baa0714b8f6d1879",
       "version_major": 2,
       "version_minor": 0
      },
      "text/plain": [
       "  0%|          | 0/51 [00:00<?, ?it/s]"
      ]
     },
     "metadata": {},
     "output_type": "display_data"
    },
    {
     "name": "stdout",
     "output_type": "stream",
     "text": [
      "Epoch:98    Loss:0.47328800255177067    NumUpdates:51\n"
     ]
    },
    {
     "data": {
      "application/vnd.jupyter.widget-view+json": {
       "model_id": "17ff6647fd5a445da856448aa62e6e6e",
       "version_major": 2,
       "version_minor": 0
      },
      "text/plain": [
       "  0%|          | 0/51 [00:00<?, ?it/s]"
      ]
     },
     "metadata": {},
     "output_type": "display_data"
    },
    {
     "name": "stdout",
     "output_type": "stream",
     "text": [
      "Epoch:99    Loss:0.47365719255279093    NumUpdates:51\n"
     ]
    },
    {
     "data": {
      "application/vnd.jupyter.widget-view+json": {
       "model_id": "70a177661dbf42dd90bc5602b18c4b73",
       "version_major": 2,
       "version_minor": 0
      },
      "text/plain": [
       "  0%|          | 0/51 [00:00<?, ?it/s]"
      ]
     },
     "metadata": {},
     "output_type": "display_data"
    },
    {
     "name": "stdout",
     "output_type": "stream",
     "text": [
      "Epoch:100    Loss:0.4737685316917943    NumUpdates:51\n"
     ]
    }
   ],
   "source": [
    "#train the model\n",
    "epoch_losses = []\n",
    "iteration_losses= []\n",
    "num_updates_epochs=[]\n",
    "for epoch in tqdm(range(1,num_epochs+1)):\n",
    "    epoch_loss_list=[]\n",
    "    num_updates_epoch = 0\n",
    "    for image_batch,text_batch in tqdm(train_loader,leave=False):\n",
    "        #reset optimizer grad on each epoch\n",
    "        optimizer.zero_grad()\n",
    "        #forward pass\n",
    "        text_batch_logits = crnn(image_batch.to(device))\n",
    "        #compute loss\n",
    "        loss = compute_loss(text_batch,text_batch_logits)\n",
    "        iteration_loss = loss.item()\n",
    "\n",
    "        if np.isnan(iteration_loss) or np.isinf(iteration_loss):\n",
    "            continue\n",
    "\n",
    "        num_updates_epoch +=1\n",
    "        iteration_losses.append(iteration_loss)\n",
    "        epoch_loss_list.append(iteration_loss)\n",
    "        #backwards pass\n",
    "        loss.backward()\n",
    "        #clip gradients to prevent from them from blowing up\n",
    "        nn.utils.clip_grad_norm_(crnn.parameters(),clip_norm)\n",
    "        #optimizer step\n",
    "        optimizer.step()\n",
    "\n",
    "    epoch_loss = np.mean(epoch_loss_list)\n",
    "    #update on key metrics\n",
    "    print(\"Epoch:{}    Loss:{}    NumUpdates:{}\".format(epoch, epoch_loss, num_updates_epoch))\n",
    "    epoch_losses.append(epoch_loss)\n",
    "    num_updates_epochs.append(num_updates_epoch)\n",
    "    #lr_schedular step\n",
    "    lr_scheduler.step(epoch_loss)\n"
   ]
  },
  {
   "cell_type": "code",
   "execution_count": 27,
   "id": "eacae613-435a-4f76-a0b2-0bef9bb9df56",
   "metadata": {},
   "outputs": [
    {
     "data": {
      "image/png": "[encoded data removed]",
      "text/plain": [
       "<Figure size 1000x500 with 2 Axes>"
      ]
     },
     "metadata": {},
     "output_type": "display_data"
    }
   ],
   "source": [
    "#plot key metrics\n",
    "fig, (ax1,ax2) = plt.subplots(1,2, figsize=(10,5))\n",
    "ax1.plot(epoch_losses)\n",
    "ax1.set_xlabel('Epochs')\n",
    "ax1.set_ylabel('Loss')\n",
    "\n",
    "ax2.plot(iteration_losses)\n",
    "ax2.set_xlabel('Iterations')\n",
    "ax2.set_ylabel('Loss')\n",
    "\n",
    "plt.show()"
   ]
  },
  {
   "cell_type": "code",
   "execution_count": 28,
   "id": "1d4a6279-488c-4805-8212-fc75da00eba8",
   "metadata": {},
   "outputs": [],
   "source": [
    "#text decoder after processing\n",
    "def decode_predictions(text_batch_logits):\n",
    "\n",
    "    text_batch_tokens = F.softmax(text_batch_logits, 2).argmax(2) # [T, batch_size]\n",
    "    text_batch_tokens = text_batch_tokens.numpy().T # [batch_size, T]\n",
    "\n",
    "    text_batch_tokens_new = []\n",
    "    for text_tokens in text_batch_tokens:\n",
    "        text = [idx2char[idx] for idx in text_tokens]\n",
    "        text = \"\".join(text)\n",
    "        text_batch_tokens_new.append(text)\n",
    "\n",
    "    return text_batch_tokens_new"
   ]
  },
  {
   "cell_type": "code",
   "execution_count": 29,
   "id": "574b5033-d232-459d-afd5-59e9dc733ceb",
   "metadata": {},
   "outputs": [
    {
     "data": {
      "application/vnd.jupyter.widget-view+json": {
       "model_id": "766d45ba2c4448fa88ae5d1cb5eb8ec4",
       "version_major": 2,
       "version_minor": 0
      },
      "text/plain": [
       "  0%|          | 0/51 [00:00<?, ?it/s]"
      ]
     },
     "metadata": {},
     "output_type": "display_data"
    }
   ],
   "source": [
    "#store actual labels and predictions in a dataframe\n",
    "results_train = pd.DataFrame(columns=['actual', 'prediction'])\n",
    "train_loader = DataLoader(trainset, batch_size=16, num_workers=0, shuffle=False)\n",
    "with torch.no_grad():\n",
    "    for image_batch, text_batch in tqdm(train_loader, leave=True):\n",
    "        text_batch_logits = crnn(image_batch.to(device)) # [T, batch_size, num_classes==num_features]\n",
    "        text_batch_pred = decode_predictions(text_batch_logits.cpu())\n",
    "        #print(text_batch, text_batch_pred)\n",
    "        df = pd.DataFrame(columns=['actual', 'prediction'])\n",
    "        df['actual'] = text_batch\n",
    "        df['prediction'] = text_batch_pred\n",
    "        results_train = pd.concat([results_train, df])\n",
    "results_train = results_train.reset_index(drop=True)"
   ]
  },
  {
   "cell_type": "code",
   "execution_count": 30,
   "id": "2a4f47cb-111c-4704-9d94-760edc909e61",
   "metadata": {},
   "outputs": [
    {
     "data": {
      "application/vnd.jupyter.widget-view+json": {
       "model_id": "fe391677d6514a87a1c49a0b73310763",
       "version_major": 2,
       "version_minor": 0
      },
      "text/plain": [
       "  0%|          | 0/17 [00:00<?, ?it/s]"
      ]
     },
     "metadata": {},
     "output_type": "display_data"
    }
   ],
   "source": [
    "#do the same for the test set\n",
    "results_test = pd.DataFrame(columns=['actual', 'prediction'])\n",
    "test_loader = DataLoader(testset, batch_size=16, num_workers=0, shuffle=False)\n",
    "with torch.no_grad():\n",
    "    for image_batch, text_batch in tqdm(test_loader, leave=True):\n",
    "        text_batch_logits = crnn(image_batch.to(device)) # [T, batch_size, num_classes==num_features]\n",
    "        text_batch_pred = decode_predictions(text_batch_logits.cpu())\n",
    "        #print(text_batch, text_batch_pred)\n",
    "        df = pd.DataFrame(columns=['actual', 'prediction'])\n",
    "        df['actual'] = text_batch\n",
    "        df['prediction'] = text_batch_pred\n",
    "        results_test = pd.concat([results_test, df])\n",
    "results_test = results_test.reset_index(drop=True)"
   ]
  },
  {
   "cell_type": "code",
   "execution_count": 31,
   "id": "568f5464-7dfb-4f25-9c64-64a6f58d84f9",
   "metadata": {},
   "outputs": [
    {
     "name": "stdout",
     "output_type": "stream",
     "text": [
      "(802, 2)\n"
     ]
    },
    {
     "data": {
      "text/html": [
       "<div>\n",
       "<style scoped>\n",
       "    .dataframe tbody tr th:only-of-type {\n",
       "        vertical-align: middle;\n",
       "    }\n",
       "\n",
       "    .dataframe tbody tr th {\n",
       "        vertical-align: top;\n",
       "    }\n",
       "\n",
       "    .dataframe thead th {\n",
       "        text-align: right;\n",
       "    }\n",
       "</style>\n",
       "<table border=\"1\" class=\"dataframe\">\n",
       "  <thead>\n",
       "    <tr style=\"text-align: right;\">\n",
       "      <th></th>\n",
       "      <th>actual</th>\n",
       "      <th>prediction</th>\n",
       "    </tr>\n",
       "  </thead>\n",
       "  <tbody>\n",
       "    <tr>\n",
       "      <th>0</th>\n",
       "      <td>x3fwf</td>\n",
       "      <td>xx33ffwwff</td>\n",
       "    </tr>\n",
       "    <tr>\n",
       "      <th>1</th>\n",
       "      <td>gcfgp</td>\n",
       "      <td>ggccffggpp</td>\n",
       "    </tr>\n",
       "    <tr>\n",
       "      <th>2</th>\n",
       "      <td>7y2x4</td>\n",
       "      <td>77yy22xx44</td>\n",
       "    </tr>\n",
       "    <tr>\n",
       "      <th>3</th>\n",
       "      <td>6n6gg</td>\n",
       "      <td>66nn66g--g</td>\n",
       "    </tr>\n",
       "    <tr>\n",
       "      <th>4</th>\n",
       "      <td>x4pnp</td>\n",
       "      <td>xx44ppnnpp</td>\n",
       "    </tr>\n",
       "  </tbody>\n",
       "</table>\n",
       "</div>"
      ],
      "text/plain": [
       "  actual  prediction\n",
       "0  x3fwf  xx33ffwwff\n",
       "1  gcfgp  ggccffggpp\n",
       "2  7y2x4  77yy22xx44\n",
       "3  6n6gg  66nn66g--g\n",
       "4  x4pnp  xx44ppnnpp"
      ]
     },
     "execution_count": 31,
     "metadata": {},
     "output_type": "execute_result"
    }
   ],
   "source": [
    "print(results_train.shape)\n",
    "results_train.head()"
   ]
  },
  {
   "cell_type": "code",
   "execution_count": 32,
   "id": "28d5daae-920a-43a4-bac9-d18786cd9c8a",
   "metadata": {},
   "outputs": [
    {
     "name": "stdout",
     "output_type": "stream",
     "text": [
      "(268, 2)\n"
     ]
    },
    {
     "data": {
      "text/html": [
       "<div>\n",
       "<style scoped>\n",
       "    .dataframe tbody tr th:only-of-type {\n",
       "        vertical-align: middle;\n",
       "    }\n",
       "\n",
       "    .dataframe tbody tr th {\n",
       "        vertical-align: top;\n",
       "    }\n",
       "\n",
       "    .dataframe thead th {\n",
       "        text-align: right;\n",
       "    }\n",
       "</style>\n",
       "<table border=\"1\" class=\"dataframe\">\n",
       "  <thead>\n",
       "    <tr style=\"text-align: right;\">\n",
       "      <th></th>\n",
       "      <th>actual</th>\n",
       "      <th>prediction</th>\n",
       "    </tr>\n",
       "  </thead>\n",
       "  <tbody>\n",
       "    <tr>\n",
       "      <th>0</th>\n",
       "      <td>fxpw3</td>\n",
       "      <td>ffxxppww33</td>\n",
       "    </tr>\n",
       "    <tr>\n",
       "      <th>1</th>\n",
       "      <td>ffnxn</td>\n",
       "      <td>ff-fnnxxnn</td>\n",
       "    </tr>\n",
       "    <tr>\n",
       "      <th>2</th>\n",
       "      <td>3b4we</td>\n",
       "      <td>33bb44wwee</td>\n",
       "    </tr>\n",
       "    <tr>\n",
       "      <th>3</th>\n",
       "      <td>x277e</td>\n",
       "      <td>xx227-77ee</td>\n",
       "    </tr>\n",
       "    <tr>\n",
       "      <th>4</th>\n",
       "      <td>n6nn2</td>\n",
       "      <td>nn66n--n22</td>\n",
       "    </tr>\n",
       "  </tbody>\n",
       "</table>\n",
       "</div>"
      ],
      "text/plain": [
       "  actual  prediction\n",
       "0  fxpw3  ffxxppww33\n",
       "1  ffnxn  ff-fnnxxnn\n",
       "2  3b4we  33bb44wwee\n",
       "3  x277e  xx227-77ee\n",
       "4  n6nn2  nn66n--n22"
      ]
     },
     "execution_count": 32,
     "metadata": {},
     "output_type": "execute_result"
    }
   ],
   "source": [
    "print(results_test.shape)\n",
    "results_test.head()"
   ]
  },
  {
   "cell_type": "code",
   "execution_count": 33,
   "id": "edcfab3e-7d1d-4d7f-8bdf-8096c81f0d0e",
   "metadata": {},
   "outputs": [],
   "source": [
    "#remove duplicate symbols\n",
    "def remove_duplicates(text):\n",
    "    if len(text) > 1:\n",
    "        letters = [text[0]] + [letter for idx, letter in enumerate(text[1:], start=1) if text[idx] != text[idx-1]]\n",
    "    elif len(text) == 1:\n",
    "        letters = [text[0]]\n",
    "    else:\n",
    "        return \"\"\n",
    "    return \"\".join(letters)\n",
    "\n",
    "def correct_prediction(word):\n",
    "    parts = word.split(\"-\")\n",
    "    parts = [remove_duplicates(part) for part in parts]\n",
    "    corrected_word = \"\".join(parts)\n",
    "    return corrected_word"
   ]
  },
  {
   "cell_type": "code",
   "execution_count": 34,
   "id": "44bbc01e-b510-43a3-892e-6d887c8b947c",
   "metadata": {},
   "outputs": [
    {
     "data": {
      "text/html": [
       "<div>\n",
       "<style scoped>\n",
       "    .dataframe tbody tr th:only-of-type {\n",
       "        vertical-align: middle;\n",
       "    }\n",
       "\n",
       "    .dataframe tbody tr th {\n",
       "        vertical-align: top;\n",
       "    }\n",
       "\n",
       "    .dataframe thead th {\n",
       "        text-align: right;\n",
       "    }\n",
       "</style>\n",
       "<table border=\"1\" class=\"dataframe\">\n",
       "  <thead>\n",
       "    <tr style=\"text-align: right;\">\n",
       "      <th></th>\n",
       "      <th>actual</th>\n",
       "      <th>prediction</th>\n",
       "      <th>prediction_corrected</th>\n",
       "    </tr>\n",
       "  </thead>\n",
       "  <tbody>\n",
       "    <tr>\n",
       "      <th>0</th>\n",
       "      <td>x3fwf</td>\n",
       "      <td>xx33ffwwff</td>\n",
       "      <td>x3fwf</td>\n",
       "    </tr>\n",
       "    <tr>\n",
       "      <th>1</th>\n",
       "      <td>gcfgp</td>\n",
       "      <td>ggccffggpp</td>\n",
       "      <td>gcfgp</td>\n",
       "    </tr>\n",
       "    <tr>\n",
       "      <th>2</th>\n",
       "      <td>7y2x4</td>\n",
       "      <td>77yy22xx44</td>\n",
       "      <td>7y2x4</td>\n",
       "    </tr>\n",
       "    <tr>\n",
       "      <th>3</th>\n",
       "      <td>6n6gg</td>\n",
       "      <td>66nn66g--g</td>\n",
       "      <td>6n6gg</td>\n",
       "    </tr>\n",
       "    <tr>\n",
       "      <th>4</th>\n",
       "      <td>x4pnp</td>\n",
       "      <td>xx44ppnnpp</td>\n",
       "      <td>x4pnp</td>\n",
       "    </tr>\n",
       "  </tbody>\n",
       "</table>\n",
       "</div>"
      ],
      "text/plain": [
       "  actual  prediction prediction_corrected\n",
       "0  x3fwf  xx33ffwwff                x3fwf\n",
       "1  gcfgp  ggccffggpp                gcfgp\n",
       "2  7y2x4  77yy22xx44                7y2x4\n",
       "3  6n6gg  66nn66g--g                6n6gg\n",
       "4  x4pnp  xx44ppnnpp                x4pnp"
      ]
     },
     "execution_count": 34,
     "metadata": {},
     "output_type": "execute_result"
    }
   ],
   "source": [
    "#apply correction on predicted labels\n",
    "results_train['prediction_corrected'] = results_train['prediction'].apply(correct_prediction)\n",
    "results_train.head()"
   ]
  },
  {
   "cell_type": "code",
   "execution_count": 35,
   "id": "fa25d874-6a56-4472-aac0-229760f19108",
   "metadata": {},
   "outputs": [
    {
     "data": {
      "text/html": [
       "<div>\n",
       "<style scoped>\n",
       "    .dataframe tbody tr th:only-of-type {\n",
       "        vertical-align: middle;\n",
       "    }\n",
       "\n",
       "    .dataframe tbody tr th {\n",
       "        vertical-align: top;\n",
       "    }\n",
       "\n",
       "    .dataframe thead th {\n",
       "        text-align: right;\n",
       "    }\n",
       "</style>\n",
       "<table border=\"1\" class=\"dataframe\">\n",
       "  <thead>\n",
       "    <tr style=\"text-align: right;\">\n",
       "      <th></th>\n",
       "      <th>actual</th>\n",
       "      <th>prediction</th>\n",
       "      <th>prediction_corrected</th>\n",
       "    </tr>\n",
       "  </thead>\n",
       "  <tbody>\n",
       "    <tr>\n",
       "      <th>0</th>\n",
       "      <td>fxpw3</td>\n",
       "      <td>ffxxppww33</td>\n",
       "      <td>fxpw3</td>\n",
       "    </tr>\n",
       "    <tr>\n",
       "      <th>1</th>\n",
       "      <td>ffnxn</td>\n",
       "      <td>ff-fnnxxnn</td>\n",
       "      <td>ffnxn</td>\n",
       "    </tr>\n",
       "    <tr>\n",
       "      <th>2</th>\n",
       "      <td>3b4we</td>\n",
       "      <td>33bb44wwee</td>\n",
       "      <td>3b4we</td>\n",
       "    </tr>\n",
       "    <tr>\n",
       "      <th>3</th>\n",
       "      <td>x277e</td>\n",
       "      <td>xx227-77ee</td>\n",
       "      <td>x277e</td>\n",
       "    </tr>\n",
       "    <tr>\n",
       "      <th>4</th>\n",
       "      <td>n6nn2</td>\n",
       "      <td>nn66n--n22</td>\n",
       "      <td>n6nn2</td>\n",
       "    </tr>\n",
       "  </tbody>\n",
       "</table>\n",
       "</div>"
      ],
      "text/plain": [
       "  actual  prediction prediction_corrected\n",
       "0  fxpw3  ffxxppww33                fxpw3\n",
       "1  ffnxn  ff-fnnxxnn                ffnxn\n",
       "2  3b4we  33bb44wwee                3b4we\n",
       "3  x277e  xx227-77ee                x277e\n",
       "4  n6nn2  nn66n--n22                n6nn2"
      ]
     },
     "execution_count": 35,
     "metadata": {},
     "output_type": "execute_result"
    }
   ],
   "source": [
    "#do the same for test set\n",
    "results_test['prediction_corrected'] = results_test['prediction'].apply(correct_prediction)\n",
    "results_test.head()"
   ]
  },
  {
   "cell_type": "code",
   "execution_count": 36,
   "id": "21ba1417-99d1-4afa-ae0c-eeb2e6922bcb",
   "metadata": {},
   "outputs": [
    {
     "data": {
      "text/html": [
       "<div>\n",
       "<style scoped>\n",
       "    .dataframe tbody tr th:only-of-type {\n",
       "        vertical-align: middle;\n",
       "    }\n",
       "\n",
       "    .dataframe tbody tr th {\n",
       "        vertical-align: top;\n",
       "    }\n",
       "\n",
       "    .dataframe thead th {\n",
       "        text-align: right;\n",
       "    }\n",
       "</style>\n",
       "<table border=\"1\" class=\"dataframe\">\n",
       "  <thead>\n",
       "    <tr style=\"text-align: right;\">\n",
       "      <th></th>\n",
       "      <th>actual</th>\n",
       "      <th>prediction</th>\n",
       "      <th>prediction_corrected</th>\n",
       "    </tr>\n",
       "  </thead>\n",
       "  <tbody>\n",
       "    <tr>\n",
       "      <th>19</th>\n",
       "      <td>77387</td>\n",
       "      <td>7--7888877</td>\n",
       "      <td>7787</td>\n",
       "    </tr>\n",
       "    <tr>\n",
       "      <th>21</th>\n",
       "      <td>cen55</td>\n",
       "      <td>cceenn5555</td>\n",
       "      <td>cen5</td>\n",
       "    </tr>\n",
       "    <tr>\n",
       "      <th>22</th>\n",
       "      <td>33b22</td>\n",
       "      <td>3333bb2222</td>\n",
       "      <td>3b2</td>\n",
       "    </tr>\n",
       "    <tr>\n",
       "      <th>23</th>\n",
       "      <td>c7nn8</td>\n",
       "      <td>cc77nnnn88</td>\n",
       "      <td>c7n8</td>\n",
       "    </tr>\n",
       "    <tr>\n",
       "      <th>26</th>\n",
       "      <td>y33nm</td>\n",
       "      <td>yy3333nnmm</td>\n",
       "      <td>y3nm</td>\n",
       "    </tr>\n",
       "    <tr>\n",
       "      <th>31</th>\n",
       "      <td>d22n7</td>\n",
       "      <td>dd2222nn77</td>\n",
       "      <td>d2n7</td>\n",
       "    </tr>\n",
       "    <tr>\n",
       "      <th>36</th>\n",
       "      <td>g888x</td>\n",
       "      <td>gg8----8xx</td>\n",
       "      <td>g88x</td>\n",
       "    </tr>\n",
       "    <tr>\n",
       "      <th>52</th>\n",
       "      <td>xyyyw</td>\n",
       "      <td>xxyy--yyww</td>\n",
       "      <td>xyyw</td>\n",
       "    </tr>\n",
       "    <tr>\n",
       "      <th>57</th>\n",
       "      <td>bw44w</td>\n",
       "      <td>bbww4444ww</td>\n",
       "      <td>bw4w</td>\n",
       "    </tr>\n",
       "    <tr>\n",
       "      <th>73</th>\n",
       "      <td>x44n4</td>\n",
       "      <td>xx4444n444</td>\n",
       "      <td>x4n4</td>\n",
       "    </tr>\n",
       "    <tr>\n",
       "      <th>85</th>\n",
       "      <td>8cccc</td>\n",
       "      <td>88c------c</td>\n",
       "      <td>8cc</td>\n",
       "    </tr>\n",
       "    <tr>\n",
       "      <th>90</th>\n",
       "      <td>yw667</td>\n",
       "      <td>yyww666677</td>\n",
       "      <td>yw67</td>\n",
       "    </tr>\n",
       "    <tr>\n",
       "      <th>91</th>\n",
       "      <td>ffd6p</td>\n",
       "      <td>ffffdd66pp</td>\n",
       "      <td>fd6p</td>\n",
       "    </tr>\n",
       "    <tr>\n",
       "      <th>102</th>\n",
       "      <td>25257</td>\n",
       "      <td>22555---77</td>\n",
       "      <td>257</td>\n",
       "    </tr>\n",
       "    <tr>\n",
       "      <th>117</th>\n",
       "      <td>bwmee</td>\n",
       "      <td>bbwwmmeeee</td>\n",
       "      <td>bwme</td>\n",
       "    </tr>\n",
       "    <tr>\n",
       "      <th>122</th>\n",
       "      <td>556wd</td>\n",
       "      <td>555566wwdd</td>\n",
       "      <td>56wd</td>\n",
       "    </tr>\n",
       "    <tr>\n",
       "      <th>128</th>\n",
       "      <td>6e554</td>\n",
       "      <td>66ee555544</td>\n",
       "      <td>6e54</td>\n",
       "    </tr>\n",
       "    <tr>\n",
       "      <th>130</th>\n",
       "      <td>p5g5m</td>\n",
       "      <td>pp555555mm</td>\n",
       "      <td>p5m</td>\n",
       "    </tr>\n",
       "    <tr>\n",
       "      <th>140</th>\n",
       "      <td>mwxwp</td>\n",
       "      <td>mmwwwwxxxx</td>\n",
       "      <td>mwx</td>\n",
       "    </tr>\n",
       "    <tr>\n",
       "      <th>170</th>\n",
       "      <td>5p3mm</td>\n",
       "      <td>55pp33mmmm</td>\n",
       "      <td>5p3m</td>\n",
       "    </tr>\n",
       "    <tr>\n",
       "      <th>203</th>\n",
       "      <td>b5nmm</td>\n",
       "      <td>bb55nnmmmm</td>\n",
       "      <td>b5nm</td>\n",
       "    </tr>\n",
       "    <tr>\n",
       "      <th>208</th>\n",
       "      <td>een23</td>\n",
       "      <td>eeeenn2233</td>\n",
       "      <td>en23</td>\n",
       "    </tr>\n",
       "    <tr>\n",
       "      <th>212</th>\n",
       "      <td>cc845</td>\n",
       "      <td>cccc884455</td>\n",
       "      <td>c845</td>\n",
       "    </tr>\n",
       "    <tr>\n",
       "      <th>220</th>\n",
       "      <td>ennmm</td>\n",
       "      <td>een--nmmmm</td>\n",
       "      <td>ennm</td>\n",
       "    </tr>\n",
       "    <tr>\n",
       "      <th>221</th>\n",
       "      <td>33p4e</td>\n",
       "      <td>3333pp44ee</td>\n",
       "      <td>3p4e</td>\n",
       "    </tr>\n",
       "  </tbody>\n",
       "</table>\n",
       "</div>"
      ],
      "text/plain": [
       "    actual  prediction prediction_corrected\n",
       "19   77387  7--7888877                 7787\n",
       "21   cen55  cceenn5555                 cen5\n",
       "22   33b22  3333bb2222                  3b2\n",
       "23   c7nn8  cc77nnnn88                 c7n8\n",
       "26   y33nm  yy3333nnmm                 y3nm\n",
       "31   d22n7  dd2222nn77                 d2n7\n",
       "36   g888x  gg8----8xx                 g88x\n",
       "52   xyyyw  xxyy--yyww                 xyyw\n",
       "57   bw44w  bbww4444ww                 bw4w\n",
       "73   x44n4  xx4444n444                 x4n4\n",
       "85   8cccc  88c------c                  8cc\n",
       "90   yw667  yyww666677                 yw67\n",
       "91   ffd6p  ffffdd66pp                 fd6p\n",
       "102  25257  22555---77                  257\n",
       "117  bwmee  bbwwmmeeee                 bwme\n",
       "122  556wd  555566wwdd                 56wd\n",
       "128  6e554  66ee555544                 6e54\n",
       "130  p5g5m  pp555555mm                  p5m\n",
       "140  mwxwp  mmwwwwxxxx                  mwx\n",
       "170  5p3mm  55pp33mmmm                 5p3m\n",
       "203  b5nmm  bb55nnmmmm                 b5nm\n",
       "208  een23  eeeenn2233                 en23\n",
       "212  cc845  cccc884455                 c845\n",
       "220  ennmm  een--nmmmm                 ennm\n",
       "221  33p4e  3333pp44ee                 3p4e"
      ]
     },
     "execution_count": 36,
     "metadata": {},
     "output_type": "execute_result"
    }
   ],
   "source": [
    "#check mistakes to see if further processing can be done to fix issues\n",
    "mistakes_df = results_test[results_test['actual'] != results_test['prediction_corrected']]\n",
    "mistakes_df"
   ]
  },
  {
   "cell_type": "code",
   "execution_count": 37,
   "id": "3db16194-6eda-4390-9a78-566a0b20e5fe",
   "metadata": {},
   "outputs": [
    {
     "name": "stdout",
     "output_type": "stream",
     "text": [
      "prediction_corrected\n",
      "4    20\n",
      "3     5\n",
      "Name: count, dtype: int64\n"
     ]
    }
   ],
   "source": [
    "#check length of corrected preds\n",
    "print(mistakes_df['prediction_corrected'].str.len().value_counts())"
   ]
  },
  {
   "cell_type": "code",
   "execution_count": 38,
   "id": "79c0e4ad-8228-4f5a-841f-c299ab936aa5",
   "metadata": {},
   "outputs": [
    {
     "data": {
      "text/html": [
       "<div>\n",
       "<style scoped>\n",
       "    .dataframe tbody tr th:only-of-type {\n",
       "        vertical-align: middle;\n",
       "    }\n",
       "\n",
       "    .dataframe tbody tr th {\n",
       "        vertical-align: top;\n",
       "    }\n",
       "\n",
       "    .dataframe thead th {\n",
       "        text-align: right;\n",
       "    }\n",
       "</style>\n",
       "<table border=\"1\" class=\"dataframe\">\n",
       "  <thead>\n",
       "    <tr style=\"text-align: right;\">\n",
       "      <th></th>\n",
       "      <th>actual</th>\n",
       "      <th>prediction</th>\n",
       "      <th>prediction_corrected</th>\n",
       "    </tr>\n",
       "  </thead>\n",
       "  <tbody>\n",
       "    <tr>\n",
       "      <th>19</th>\n",
       "      <td>77387</td>\n",
       "      <td>7--7888877</td>\n",
       "      <td>7787</td>\n",
       "    </tr>\n",
       "    <tr>\n",
       "      <th>21</th>\n",
       "      <td>cen55</td>\n",
       "      <td>cceenn5555</td>\n",
       "      <td>cen5</td>\n",
       "    </tr>\n",
       "    <tr>\n",
       "      <th>23</th>\n",
       "      <td>c7nn8</td>\n",
       "      <td>cc77nnnn88</td>\n",
       "      <td>c7n8</td>\n",
       "    </tr>\n",
       "    <tr>\n",
       "      <th>26</th>\n",
       "      <td>y33nm</td>\n",
       "      <td>yy3333nnmm</td>\n",
       "      <td>y3nm</td>\n",
       "    </tr>\n",
       "    <tr>\n",
       "      <th>31</th>\n",
       "      <td>d22n7</td>\n",
       "      <td>dd2222nn77</td>\n",
       "      <td>d2n7</td>\n",
       "    </tr>\n",
       "    <tr>\n",
       "      <th>36</th>\n",
       "      <td>g888x</td>\n",
       "      <td>gg8----8xx</td>\n",
       "      <td>g88x</td>\n",
       "    </tr>\n",
       "    <tr>\n",
       "      <th>52</th>\n",
       "      <td>xyyyw</td>\n",
       "      <td>xxyy--yyww</td>\n",
       "      <td>xyyw</td>\n",
       "    </tr>\n",
       "    <tr>\n",
       "      <th>57</th>\n",
       "      <td>bw44w</td>\n",
       "      <td>bbww4444ww</td>\n",
       "      <td>bw4w</td>\n",
       "    </tr>\n",
       "    <tr>\n",
       "      <th>73</th>\n",
       "      <td>x44n4</td>\n",
       "      <td>xx4444n444</td>\n",
       "      <td>x4n4</td>\n",
       "    </tr>\n",
       "    <tr>\n",
       "      <th>90</th>\n",
       "      <td>yw667</td>\n",
       "      <td>yyww666677</td>\n",
       "      <td>yw67</td>\n",
       "    </tr>\n",
       "    <tr>\n",
       "      <th>91</th>\n",
       "      <td>ffd6p</td>\n",
       "      <td>ffffdd66pp</td>\n",
       "      <td>fd6p</td>\n",
       "    </tr>\n",
       "    <tr>\n",
       "      <th>117</th>\n",
       "      <td>bwmee</td>\n",
       "      <td>bbwwmmeeee</td>\n",
       "      <td>bwme</td>\n",
       "    </tr>\n",
       "    <tr>\n",
       "      <th>122</th>\n",
       "      <td>556wd</td>\n",
       "      <td>555566wwdd</td>\n",
       "      <td>56wd</td>\n",
       "    </tr>\n",
       "    <tr>\n",
       "      <th>128</th>\n",
       "      <td>6e554</td>\n",
       "      <td>66ee555544</td>\n",
       "      <td>6e54</td>\n",
       "    </tr>\n",
       "    <tr>\n",
       "      <th>170</th>\n",
       "      <td>5p3mm</td>\n",
       "      <td>55pp33mmmm</td>\n",
       "      <td>5p3m</td>\n",
       "    </tr>\n",
       "    <tr>\n",
       "      <th>203</th>\n",
       "      <td>b5nmm</td>\n",
       "      <td>bb55nnmmmm</td>\n",
       "      <td>b5nm</td>\n",
       "    </tr>\n",
       "    <tr>\n",
       "      <th>208</th>\n",
       "      <td>een23</td>\n",
       "      <td>eeeenn2233</td>\n",
       "      <td>en23</td>\n",
       "    </tr>\n",
       "    <tr>\n",
       "      <th>212</th>\n",
       "      <td>cc845</td>\n",
       "      <td>cccc884455</td>\n",
       "      <td>c845</td>\n",
       "    </tr>\n",
       "    <tr>\n",
       "      <th>220</th>\n",
       "      <td>ennmm</td>\n",
       "      <td>een--nmmmm</td>\n",
       "      <td>ennm</td>\n",
       "    </tr>\n",
       "    <tr>\n",
       "      <th>221</th>\n",
       "      <td>33p4e</td>\n",
       "      <td>3333pp44ee</td>\n",
       "      <td>3p4e</td>\n",
       "    </tr>\n",
       "  </tbody>\n",
       "</table>\n",
       "</div>"
      ],
      "text/plain": [
       "    actual  prediction prediction_corrected\n",
       "19   77387  7--7888877                 7787\n",
       "21   cen55  cceenn5555                 cen5\n",
       "23   c7nn8  cc77nnnn88                 c7n8\n",
       "26   y33nm  yy3333nnmm                 y3nm\n",
       "31   d22n7  dd2222nn77                 d2n7\n",
       "36   g888x  gg8----8xx                 g88x\n",
       "52   xyyyw  xxyy--yyww                 xyyw\n",
       "57   bw44w  bbww4444ww                 bw4w\n",
       "73   x44n4  xx4444n444                 x4n4\n",
       "90   yw667  yyww666677                 yw67\n",
       "91   ffd6p  ffffdd66pp                 fd6p\n",
       "117  bwmee  bbwwmmeeee                 bwme\n",
       "122  556wd  555566wwdd                 56wd\n",
       "128  6e554  66ee555544                 6e54\n",
       "170  5p3mm  55pp33mmmm                 5p3m\n",
       "203  b5nmm  bb55nnmmmm                 b5nm\n",
       "208  een23  eeeenn2233                 en23\n",
       "212  cc845  cccc884455                 c845\n",
       "220  ennmm  een--nmmmm                 ennm\n",
       "221  33p4e  3333pp44ee                 3p4e"
      ]
     },
     "execution_count": 38,
     "metadata": {},
     "output_type": "execute_result"
    }
   ],
   "source": [
    "mask = mistakes_df['prediction_corrected'].str.len() == 4\n",
    "mistakes_df[mask]"
   ]
  },
  {
   "cell_type": "code",
   "execution_count": 39,
   "id": "7bf2b383-19ec-48ca-a4df-47513ba4969d",
   "metadata": {},
   "outputs": [
    {
     "name": "stdout",
     "output_type": "stream",
     "text": [
      "./kaggle/input/captcha-version-2-images/samples\\77387.png\n"
     ]
    },
    {
     "data": {
      "image/png": "[encoded data removed]",
      "text/plain": [
       "<Figure size 640x480 with 1 Axes>"
      ]
     },
     "metadata": {},
     "output_type": "display_data"
    }
   ],
   "source": [
    "#print image to see if image is the reason for error\n",
    "mistake_image_fp = os.path.join(data_path, mistakes_df[mask]['actual'].values[0] + \".png\")\n",
    "print(mistake_image_fp)\n",
    "mistake_image = Image.open(mistake_image_fp)\n",
    "plt.imshow(mistake_image)\n",
    "plt.show()"
   ]
  },
  {
   "cell_type": "code",
   "execution_count": 40,
   "id": "e460fb7d-7e94-4c45-b759-c0bc55145427",
   "metadata": {},
   "outputs": [
    {
     "name": "stdout",
     "output_type": "stream",
     "text": [
      "0.9875311720698254\n",
      "0.9067164179104478\n"
     ]
    }
   ],
   "source": [
    "#test accuracy and train accuracy\n",
    "train_accuracy = accuracy_score(results_train['actual'], results_train['prediction_corrected'])\n",
    "print(train_accuracy)\n",
    "test_accuracy = accuracy_score(results_test['actual'], results_test['prediction_corrected'])\n",
    "print(test_accuracy)"
   ]
  },
  {
   "cell_type": "code",
   "execution_count": null,
   "id": "a0f9a4dd-a5c8-4aaa-8690-6cf2d7a9894b",
   "metadata": {},
   "outputs": [],
   "source": []
  }
 ],
 "metadata": {
  "kernelspec": {
   "display_name": "Python 3 (ipykernel)",
   "language": "python",
   "name": "python3"
  },
  "language_info": {
   "codemirror_mode": {
    "name": "ipython",
    "version": 3
   },
   "file_extension": ".py",
   "mimetype": "text/x-python",
   "name": "python",
   "nbconvert_exporter": "python",
   "pygments_lexer": "ipython3",
   "version": "3.12.4"
  }
 },
 "nbformat": 4,
 "nbformat_minor": 5
}
